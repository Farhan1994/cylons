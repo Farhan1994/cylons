{
  "nbformat": 4,
  "nbformat_minor": 0,
  "metadata": {
    "colab": {
      "name": "03 TimeSeriesAnalysis.ipynb",
      "provenance": [],
      "collapsed_sections": [],
      "authorship_tag": "ABX9TyPDuCdu0GnR9R5eMo6TeGtx",
      "include_colab_link": true
    },
    "kernelspec": {
      "name": "python3",
      "display_name": "Python 3"
    }
  },
  "cells": [
    {
      "cell_type": "markdown",
      "metadata": {
        "id": "view-in-github",
        "colab_type": "text"
      },
      "source": [
        "<a href=\"https://colab.research.google.com/github/a-forty-two/cylons/blob/master/03_TimeSeriesAnalysis.ipynb\" target=\"_parent\"><img src=\"https://colab.research.google.com/assets/colab-badge.svg\" alt=\"Open In Colab\"/></a>"
      ]
    },
    {
      "cell_type": "code",
      "metadata": {
        "id": "K4aIct04lCFU",
        "colab_type": "code",
        "colab": {
          "base_uri": "https://localhost:8080/",
          "height": 35
        },
        "outputId": "1f36c6ee-40d1-4a5c-b805-02fcfb86a9d6"
      },
      "source": [
        "# Choosing right model or algo \n",
        "# https://scikit-learn.org/stable/tutorial/machine_learning_map/index.html\n",
        "\n",
        "# data from https://community.tableau.com/docs/DOC-1236\n",
        "!ls"
      ],
      "execution_count": 1,
      "outputs": [
        {
          "output_type": "stream",
          "text": [
            " sample_data  'Sample - Superstore (1).xls'\n"
          ],
          "name": "stdout"
        }
      ]
    },
    {
      "cell_type": "code",
      "metadata": {
        "id": "CGtzNkkWlbD4",
        "colab_type": "code",
        "colab": {
          "base_uri": "https://localhost:8080/",
          "height": 104
        },
        "outputId": "2f33b980-a9de-47e4-f69d-3b7ce2649203"
      },
      "source": [
        "import pandas as pd\n",
        "df = pd.read_excel('Sample - Superstore (1).xls')\n",
        "df.head()\n",
        "df.columns"
      ],
      "execution_count": 1,
      "outputs": [
        {
          "output_type": "execute_result",
          "data": {
            "text/plain": [
              "Index(['Row ID', 'Order ID', 'Order Date', 'Ship Date', 'Ship Mode',\n",
              "       'Customer ID', 'Customer Name', 'Segment', 'Country', 'City', 'State',\n",
              "       'Postal Code', 'Region', 'Product ID', 'Category', 'Sub-Category',\n",
              "       'Product Name', 'Sales', 'Quantity', 'Discount', 'Profit'],\n",
              "      dtype='object')"
            ]
          },
          "metadata": {
            "tags": []
          },
          "execution_count": 1
        }
      ]
    },
    {
      "cell_type": "code",
      "metadata": {
        "id": "Pwr0PxgdmSab",
        "colab_type": "code",
        "colab": {}
      },
      "source": [
        "import warnings\n",
        "import itertools\n",
        "import numpy as np\n",
        "import statsmodels.api as sm\n",
        "import matplotlib.pyplot as plt\n",
        "import matplotlib\n",
        "%matplotlib inline\n",
        "# for production use, we may want to supress the warning\n",
        "# NEVER for dev-> ALL WARNINGS must be taken into account and fix whatever can be fixed\n",
        "warnings.filterwarnings(\"ignore\")\n",
        "# That any code that may throw warning would have inherited the Exceptions and warnings classes\n",
        "# If some package is throwing warning or exception without using the right channel, then \n",
        "# the warning will not be supressed"
      ],
      "execution_count": 0,
      "outputs": []
    },
    {
      "cell_type": "code",
      "metadata": {
        "id": "5l6xcpsuLmSv",
        "colab_type": "code",
        "colab": {
          "base_uri": "https://localhost:8080/",
          "height": 269
        },
        "outputId": "d6a4698a-ed0c-4898-a709-39e750b3d156"
      },
      "source": [
        "df.head(2)\n",
        "# WHENEVER you're into TS analysis -> TIMESTAMPS \n",
        "# what if you don't have time stamps but data is arranged in either time-ascending or descending order,\n",
        "# you can always take a reference timeline -> 1990-2000 \n",
        "# TIMESTAMP should work like an INDEX and not input dataset \n",
        "# TSA -> Univariate and multivariate \n",
        "# ONE FEATURE is going to fluctuate w.r.t. TIME \n",
        "\n",
        "# TIMESTAMPS -> Order Date and Ship Date \n",
        "# Identify all indexes or seemingly indexes and REMOVE THEM -> NEW DF -> don't mutate the old DF\n",
        "# Identify ALL categorical DATA -> in TSA , categories help us FILTER the data \n",
        "# If there categories like COuntry -> Then i could make individual TSA predictions for each country\n",
        "\n"
      ],
      "execution_count": 6,
      "outputs": [
        {
          "output_type": "execute_result",
          "data": {
            "text/html": [
              "<div>\n",
              "<style scoped>\n",
              "    .dataframe tbody tr th:only-of-type {\n",
              "        vertical-align: middle;\n",
              "    }\n",
              "\n",
              "    .dataframe tbody tr th {\n",
              "        vertical-align: top;\n",
              "    }\n",
              "\n",
              "    .dataframe thead th {\n",
              "        text-align: right;\n",
              "    }\n",
              "</style>\n",
              "<table border=\"1\" class=\"dataframe\">\n",
              "  <thead>\n",
              "    <tr style=\"text-align: right;\">\n",
              "      <th></th>\n",
              "      <th>Row ID</th>\n",
              "      <th>Order ID</th>\n",
              "      <th>Order Date</th>\n",
              "      <th>Ship Date</th>\n",
              "      <th>Ship Mode</th>\n",
              "      <th>Customer ID</th>\n",
              "      <th>Customer Name</th>\n",
              "      <th>Segment</th>\n",
              "      <th>Country</th>\n",
              "      <th>City</th>\n",
              "      <th>State</th>\n",
              "      <th>Postal Code</th>\n",
              "      <th>Region</th>\n",
              "      <th>Product ID</th>\n",
              "      <th>Category</th>\n",
              "      <th>Sub-Category</th>\n",
              "      <th>Product Name</th>\n",
              "      <th>Sales</th>\n",
              "      <th>Quantity</th>\n",
              "      <th>Discount</th>\n",
              "      <th>Profit</th>\n",
              "    </tr>\n",
              "  </thead>\n",
              "  <tbody>\n",
              "    <tr>\n",
              "      <th>0</th>\n",
              "      <td>1</td>\n",
              "      <td>CA-2016-152156</td>\n",
              "      <td>2016-11-08</td>\n",
              "      <td>2016-11-11</td>\n",
              "      <td>Second Class</td>\n",
              "      <td>CG-12520</td>\n",
              "      <td>Claire Gute</td>\n",
              "      <td>Consumer</td>\n",
              "      <td>United States</td>\n",
              "      <td>Henderson</td>\n",
              "      <td>Kentucky</td>\n",
              "      <td>42420</td>\n",
              "      <td>South</td>\n",
              "      <td>FUR-BO-10001798</td>\n",
              "      <td>Furniture</td>\n",
              "      <td>Bookcases</td>\n",
              "      <td>Bush Somerset Collection Bookcase</td>\n",
              "      <td>261.96</td>\n",
              "      <td>2</td>\n",
              "      <td>0.0</td>\n",
              "      <td>41.9136</td>\n",
              "    </tr>\n",
              "    <tr>\n",
              "      <th>1</th>\n",
              "      <td>2</td>\n",
              "      <td>CA-2016-152156</td>\n",
              "      <td>2016-11-08</td>\n",
              "      <td>2016-11-11</td>\n",
              "      <td>Second Class</td>\n",
              "      <td>CG-12520</td>\n",
              "      <td>Claire Gute</td>\n",
              "      <td>Consumer</td>\n",
              "      <td>United States</td>\n",
              "      <td>Henderson</td>\n",
              "      <td>Kentucky</td>\n",
              "      <td>42420</td>\n",
              "      <td>South</td>\n",
              "      <td>FUR-CH-10000454</td>\n",
              "      <td>Furniture</td>\n",
              "      <td>Chairs</td>\n",
              "      <td>Hon Deluxe Fabric Upholstered Stacking Chairs,...</td>\n",
              "      <td>731.94</td>\n",
              "      <td>3</td>\n",
              "      <td>0.0</td>\n",
              "      <td>219.5820</td>\n",
              "    </tr>\n",
              "  </tbody>\n",
              "</table>\n",
              "</div>"
            ],
            "text/plain": [
              "   Row ID        Order ID Order Date  ... Quantity Discount    Profit\n",
              "0       1  CA-2016-152156 2016-11-08  ...        2      0.0   41.9136\n",
              "1       2  CA-2016-152156 2016-11-08  ...        3      0.0  219.5820\n",
              "\n",
              "[2 rows x 21 columns]"
            ]
          },
          "metadata": {
            "tags": []
          },
          "execution_count": 6
        }
      ]
    },
    {
      "cell_type": "code",
      "metadata": {
        "id": "MndIcH6nMpk-",
        "colab_type": "code",
        "colab": {
          "base_uri": "https://localhost:8080/",
          "height": 225
        },
        "outputId": "c4d35f3e-8310-454d-f6ce-da2e856c4619"
      },
      "source": [
        "# Let's find out all important categorical data or DISCRETE values \n",
        "# importance-> usability for filtering \n",
        "len(df)\n",
        "df.Country.value_counts() # Because all values belong to only 1 category!!\n",
        "df.City.value_counts() # Because TOO MANY values for CITY! here, Analysis is possible \n",
        "# for some cities like NYC, LA, Phil because they've enough data points representing them \n"
      ],
      "execution_count": 10,
      "outputs": [
        {
          "output_type": "execute_result",
          "data": {
            "text/plain": [
              "New York City    915\n",
              "Los Angeles      747\n",
              "Philadelphia     537\n",
              "San Francisco    510\n",
              "Seattle          428\n",
              "                ... \n",
              "Danbury            1\n",
              "Redding            1\n",
              "Chapel Hill        1\n",
              "Palatine           1\n",
              "Bartlett           1\n",
              "Name: City, Length: 531, dtype: int64"
            ]
          },
          "metadata": {
            "tags": []
          },
          "execution_count": 10
        }
      ]
    },
    {
      "cell_type": "code",
      "metadata": {
        "id": "59C0CP1WO6MO",
        "colab_type": "code",
        "colab": {
          "base_uri": "https://localhost:8080/",
          "height": 381
        },
        "outputId": "b06275dc-e0db-4e4c-9abe-ef55894b146e"
      },
      "source": [
        "colNames = df.columns \n",
        "for i, feature in enumerate(colNames):\n",
        "  print(colNames[i] + \" \" + str(len(df[feature].value_counts())))\n",
        "\n",
        "# FROM OUTPUT below, we can conclude that best variables for categorical filtering were\n",
        "# 1) Region, 2) Categories, comparitively weaker but still valid-> SUB CATEGORY"
      ],
      "execution_count": 14,
      "outputs": [
        {
          "output_type": "stream",
          "text": [
            "Row ID 9994\n",
            "Order ID 5009\n",
            "Order Date 1237\n",
            "Ship Date 1334\n",
            "Ship Mode 4\n",
            "Customer ID 793\n",
            "Customer Name 793\n",
            "Segment 3\n",
            "Country 1\n",
            "City 531\n",
            "State 49\n",
            "Postal Code 631\n",
            "Region 4\n",
            "Product ID 1862\n",
            "Category 3\n",
            "Sub-Category 17\n",
            "Product Name 1850\n",
            "Sales 6144\n",
            "Quantity 14\n",
            "Discount 12\n",
            "Profit 7545\n"
          ],
          "name": "stdout"
        }
      ]
    },
    {
      "cell_type": "code",
      "metadata": {
        "id": "urCb7xKIP4EI",
        "colab_type": "code",
        "colab": {
          "base_uri": "https://localhost:8080/",
          "height": 87
        },
        "outputId": "94be2c17-bc3d-44cf-df2d-a2d09cb63600"
      },
      "source": [
        "df.Category.value_counts()"
      ],
      "execution_count": 15,
      "outputs": [
        {
          "output_type": "execute_result",
          "data": {
            "text/plain": [
              "Office Supplies    6026\n",
              "Furniture          2121\n",
              "Technology         1847\n",
              "Name: Category, dtype: int64"
            ]
          },
          "metadata": {
            "tags": []
          },
          "execution_count": 15
        }
      ]
    },
    {
      "cell_type": "code",
      "metadata": {
        "id": "_sscV5kAQ_z7",
        "colab_type": "code",
        "colab": {
          "base_uri": "https://localhost:8080/",
          "height": 52
        },
        "outputId": "56723f59-ecce-4cf7-c00b-c8d537831312"
      },
      "source": [
        "data = df.loc[df['Category']=='Furniture']  # LOC-> :,:\n",
        "#data.head()\n",
        "print(data['Order Date'].min())\n",
        "print(data['Order Date'].max())"
      ],
      "execution_count": 19,
      "outputs": [
        {
          "output_type": "stream",
          "text": [
            "2014-01-06 00:00:00\n",
            "2017-12-30 00:00:00\n"
          ],
          "name": "stdout"
        }
      ]
    },
    {
      "cell_type": "code",
      "metadata": {
        "id": "ip4TBs6eRU_d",
        "colab_type": "code",
        "colab": {
          "base_uri": "https://localhost:8080/",
          "height": 569
        },
        "outputId": "8a83e8f0-dd13-42b2-a0f0-121ddf469592"
      },
      "source": [
        "# WHAT IS THE FEATURE that I want to predict against TIME? \n",
        "# y= f(x) -> Y is a CONTINUOUS NUMBER that will change as per time \n",
        "# 2 kind of numbers -> CONTINUOUS and DISCRETE \n",
        "# DISCRETE are categorical features, CONTINUOUS -> numerical real values\n",
        "# COMPLEX numbers -> Real + imaginary -> break down into 2 separate features and solve separately\n",
        "\n",
        "\n"
      ],
      "execution_count": 20,
      "outputs": [
        {
          "output_type": "execute_result",
          "data": {
            "text/html": [
              "<div>\n",
              "<style scoped>\n",
              "    .dataframe tbody tr th:only-of-type {\n",
              "        vertical-align: middle;\n",
              "    }\n",
              "\n",
              "    .dataframe tbody tr th {\n",
              "        vertical-align: top;\n",
              "    }\n",
              "\n",
              "    .dataframe thead th {\n",
              "        text-align: right;\n",
              "    }\n",
              "</style>\n",
              "<table border=\"1\" class=\"dataframe\">\n",
              "  <thead>\n",
              "    <tr style=\"text-align: right;\">\n",
              "      <th></th>\n",
              "      <th>Row ID</th>\n",
              "      <th>Order ID</th>\n",
              "      <th>Order Date</th>\n",
              "      <th>Ship Date</th>\n",
              "      <th>Ship Mode</th>\n",
              "      <th>Customer ID</th>\n",
              "      <th>Customer Name</th>\n",
              "      <th>Segment</th>\n",
              "      <th>Country</th>\n",
              "      <th>City</th>\n",
              "      <th>State</th>\n",
              "      <th>Postal Code</th>\n",
              "      <th>Region</th>\n",
              "      <th>Product ID</th>\n",
              "      <th>Category</th>\n",
              "      <th>Sub-Category</th>\n",
              "      <th>Product Name</th>\n",
              "      <th>Sales</th>\n",
              "      <th>Quantity</th>\n",
              "      <th>Discount</th>\n",
              "      <th>Profit</th>\n",
              "    </tr>\n",
              "  </thead>\n",
              "  <tbody>\n",
              "    <tr>\n",
              "      <th>0</th>\n",
              "      <td>1</td>\n",
              "      <td>CA-2016-152156</td>\n",
              "      <td>2016-11-08</td>\n",
              "      <td>2016-11-11</td>\n",
              "      <td>Second Class</td>\n",
              "      <td>CG-12520</td>\n",
              "      <td>Claire Gute</td>\n",
              "      <td>Consumer</td>\n",
              "      <td>United States</td>\n",
              "      <td>Henderson</td>\n",
              "      <td>Kentucky</td>\n",
              "      <td>42420</td>\n",
              "      <td>South</td>\n",
              "      <td>FUR-BO-10001798</td>\n",
              "      <td>Furniture</td>\n",
              "      <td>Bookcases</td>\n",
              "      <td>Bush Somerset Collection Bookcase</td>\n",
              "      <td>261.9600</td>\n",
              "      <td>2</td>\n",
              "      <td>0.00</td>\n",
              "      <td>41.9136</td>\n",
              "    </tr>\n",
              "    <tr>\n",
              "      <th>1</th>\n",
              "      <td>2</td>\n",
              "      <td>CA-2016-152156</td>\n",
              "      <td>2016-11-08</td>\n",
              "      <td>2016-11-11</td>\n",
              "      <td>Second Class</td>\n",
              "      <td>CG-12520</td>\n",
              "      <td>Claire Gute</td>\n",
              "      <td>Consumer</td>\n",
              "      <td>United States</td>\n",
              "      <td>Henderson</td>\n",
              "      <td>Kentucky</td>\n",
              "      <td>42420</td>\n",
              "      <td>South</td>\n",
              "      <td>FUR-CH-10000454</td>\n",
              "      <td>Furniture</td>\n",
              "      <td>Chairs</td>\n",
              "      <td>Hon Deluxe Fabric Upholstered Stacking Chairs,...</td>\n",
              "      <td>731.9400</td>\n",
              "      <td>3</td>\n",
              "      <td>0.00</td>\n",
              "      <td>219.5820</td>\n",
              "    </tr>\n",
              "    <tr>\n",
              "      <th>3</th>\n",
              "      <td>4</td>\n",
              "      <td>US-2015-108966</td>\n",
              "      <td>2015-10-11</td>\n",
              "      <td>2015-10-18</td>\n",
              "      <td>Standard Class</td>\n",
              "      <td>SO-20335</td>\n",
              "      <td>Sean O'Donnell</td>\n",
              "      <td>Consumer</td>\n",
              "      <td>United States</td>\n",
              "      <td>Fort Lauderdale</td>\n",
              "      <td>Florida</td>\n",
              "      <td>33311</td>\n",
              "      <td>South</td>\n",
              "      <td>FUR-TA-10000577</td>\n",
              "      <td>Furniture</td>\n",
              "      <td>Tables</td>\n",
              "      <td>Bretford CR4500 Series Slim Rectangular Table</td>\n",
              "      <td>957.5775</td>\n",
              "      <td>5</td>\n",
              "      <td>0.45</td>\n",
              "      <td>-383.0310</td>\n",
              "    </tr>\n",
              "    <tr>\n",
              "      <th>5</th>\n",
              "      <td>6</td>\n",
              "      <td>CA-2014-115812</td>\n",
              "      <td>2014-06-09</td>\n",
              "      <td>2014-06-14</td>\n",
              "      <td>Standard Class</td>\n",
              "      <td>BH-11710</td>\n",
              "      <td>Brosina Hoffman</td>\n",
              "      <td>Consumer</td>\n",
              "      <td>United States</td>\n",
              "      <td>Los Angeles</td>\n",
              "      <td>California</td>\n",
              "      <td>90032</td>\n",
              "      <td>West</td>\n",
              "      <td>FUR-FU-10001487</td>\n",
              "      <td>Furniture</td>\n",
              "      <td>Furnishings</td>\n",
              "      <td>Eldon Expressions Wood and Plastic Desk Access...</td>\n",
              "      <td>48.8600</td>\n",
              "      <td>7</td>\n",
              "      <td>0.00</td>\n",
              "      <td>14.1694</td>\n",
              "    </tr>\n",
              "    <tr>\n",
              "      <th>10</th>\n",
              "      <td>11</td>\n",
              "      <td>CA-2014-115812</td>\n",
              "      <td>2014-06-09</td>\n",
              "      <td>2014-06-14</td>\n",
              "      <td>Standard Class</td>\n",
              "      <td>BH-11710</td>\n",
              "      <td>Brosina Hoffman</td>\n",
              "      <td>Consumer</td>\n",
              "      <td>United States</td>\n",
              "      <td>Los Angeles</td>\n",
              "      <td>California</td>\n",
              "      <td>90032</td>\n",
              "      <td>West</td>\n",
              "      <td>FUR-TA-10001539</td>\n",
              "      <td>Furniture</td>\n",
              "      <td>Tables</td>\n",
              "      <td>Chromcraft Rectangular Conference Tables</td>\n",
              "      <td>1706.1840</td>\n",
              "      <td>9</td>\n",
              "      <td>0.20</td>\n",
              "      <td>85.3092</td>\n",
              "    </tr>\n",
              "  </tbody>\n",
              "</table>\n",
              "</div>"
            ],
            "text/plain": [
              "    Row ID        Order ID Order Date  ... Quantity Discount    Profit\n",
              "0        1  CA-2016-152156 2016-11-08  ...        2     0.00   41.9136\n",
              "1        2  CA-2016-152156 2016-11-08  ...        3     0.00  219.5820\n",
              "3        4  US-2015-108966 2015-10-11  ...        5     0.45 -383.0310\n",
              "5        6  CA-2014-115812 2014-06-09  ...        7     0.00   14.1694\n",
              "10      11  CA-2014-115812 2014-06-09  ...        9     0.20   85.3092\n",
              "\n",
              "[5 rows x 21 columns]"
            ]
          },
          "metadata": {
            "tags": []
          },
          "execution_count": 20
        }
      ]
    },
    {
      "cell_type": "code",
      "metadata": {
        "id": "kEcVi8WwSLFS",
        "colab_type": "code",
        "colab": {
          "base_uri": "https://localhost:8080/",
          "height": 104
        },
        "outputId": "edcbde4a-0291-42a1-f9ac-b1320e460d4a"
      },
      "source": [
        "df['Ship Mode'].value_counts()\n",
        "# If I was a LOGISTICS planner or Biz Analyst, this is the categorical column!\n"
      ],
      "execution_count": 21,
      "outputs": [
        {
          "output_type": "execute_result",
          "data": {
            "text/plain": [
              "Standard Class    5968\n",
              "Second Class      1945\n",
              "First Class       1538\n",
              "Same Day           543\n",
              "Name: Ship Mode, dtype: int64"
            ]
          },
          "metadata": {
            "tags": []
          },
          "execution_count": 21
        }
      ]
    },
    {
      "cell_type": "code",
      "metadata": {
        "id": "MSWrvL8wW4x6",
        "colab_type": "code",
        "colab": {
          "base_uri": "https://localhost:8080/",
          "height": 35
        },
        "outputId": "8a995a1a-caa5-4ab0-e787-88ea74519e6f"
      },
      "source": [
        "# Best continuous variables to predict AGAINST time \n",
        "# Sales and Profit (Sales Biz Analyst)\n",
        "# Quantity (Logistic Biz Analyst) and Discount (too many 0s)\n",
        "\n",
        "# For demo, let's proceed with predicting SALES\n",
        "\n",
        "len(data)\n",
        "# here we have 4 years of data represented by 2121 rows of dataset\n",
        "# 365 X 4 -> 1460 unique days! \n",
        "# At least some dates have more than 1 order\n",
        "# maybe some dates may not orders at all! \n",
        "\n",
        "\n",
        "# IN TSA we don't expect a GAUSSIAN distribution specially when variables are \n",
        "# profit, loss, sales etc. which either increase or decrease! they don't go bell curve\n",
        "\n",
        "# in prev cases of classification, we would have preferred uniform or gaussian or normal distribution\n"
      ],
      "execution_count": 22,
      "outputs": [
        {
          "output_type": "execute_result",
          "data": {
            "text/plain": [
              "2121"
            ]
          },
          "metadata": {
            "tags": []
          },
          "execution_count": 22
        }
      ]
    },
    {
      "cell_type": "code",
      "metadata": {
        "id": "9zBiCwgvZYBj",
        "colab_type": "code",
        "colab": {
          "base_uri": "https://localhost:8080/",
          "height": 202
        },
        "outputId": "ac68eabb-5d2b-43c2-9113-1633fd90a452"
      },
      "source": [
        "# ORDER BY and GROUP BY were our go to methods in SQL!\n",
        "data_grouped = data.groupby('Order Date')\n",
        "data_grouped = data_grouped['Sales'].sum().reset_index()\n",
        "data_grouped.tail()\n",
        "# OUR ASSUMPTIONS WERE CORRECT! \n",
        "# At least some dates have more than 1 order\n",
        "# maybe some dates may not orders at all! "
      ],
      "execution_count": 30,
      "outputs": [
        {
          "output_type": "execute_result",
          "data": {
            "text/html": [
              "<div>\n",
              "<style scoped>\n",
              "    .dataframe tbody tr th:only-of-type {\n",
              "        vertical-align: middle;\n",
              "    }\n",
              "\n",
              "    .dataframe tbody tr th {\n",
              "        vertical-align: top;\n",
              "    }\n",
              "\n",
              "    .dataframe thead th {\n",
              "        text-align: right;\n",
              "    }\n",
              "</style>\n",
              "<table border=\"1\" class=\"dataframe\">\n",
              "  <thead>\n",
              "    <tr style=\"text-align: right;\">\n",
              "      <th></th>\n",
              "      <th>Order Date</th>\n",
              "      <th>Sales</th>\n",
              "    </tr>\n",
              "  </thead>\n",
              "  <tbody>\n",
              "    <tr>\n",
              "      <th>884</th>\n",
              "      <td>2017-12-24</td>\n",
              "      <td>1393.4940</td>\n",
              "    </tr>\n",
              "    <tr>\n",
              "      <th>885</th>\n",
              "      <td>2017-12-25</td>\n",
              "      <td>832.4540</td>\n",
              "    </tr>\n",
              "    <tr>\n",
              "      <th>886</th>\n",
              "      <td>2017-12-28</td>\n",
              "      <td>551.2568</td>\n",
              "    </tr>\n",
              "    <tr>\n",
              "      <th>887</th>\n",
              "      <td>2017-12-29</td>\n",
              "      <td>2330.7180</td>\n",
              "    </tr>\n",
              "    <tr>\n",
              "      <th>888</th>\n",
              "      <td>2017-12-30</td>\n",
              "      <td>323.1360</td>\n",
              "    </tr>\n",
              "  </tbody>\n",
              "</table>\n",
              "</div>"
            ],
            "text/plain": [
              "    Order Date      Sales\n",
              "884 2017-12-24  1393.4940\n",
              "885 2017-12-25   832.4540\n",
              "886 2017-12-28   551.2568\n",
              "887 2017-12-29  2330.7180\n",
              "888 2017-12-30   323.1360"
            ]
          },
          "metadata": {
            "tags": []
          },
          "execution_count": 30
        }
      ]
    },
    {
      "cell_type": "code",
      "metadata": {
        "id": "lMf2w6UhaZ5V",
        "colab_type": "code",
        "colab": {
          "base_uri": "https://localhost:8080/",
          "height": 139
        },
        "outputId": "8b523ff6-0dec-4f50-ebd9-f8e9995efab6"
      },
      "source": [
        "# HERE PREDICTING DAY by DAY will be a mistake -> real data for this granularity does not exist\n",
        "# Weekly or monthly prediction \n",
        "# Temp this week will be around 22\n",
        "# M-> 22, T-> 21, W->33, .... Sun-> 21 \n",
        "# Between the two, the weekly prediction have lesser chances of going wrong than daily prediction\n",
        "# Monthly will be better than weekly\n",
        "# Quarter will be better than monthly , annual better than quarterly \n",
        "data_grouped.set_index('Order Date', inplace=True)\n",
        "# https://pandas.pydata.org/pandas-docs/stable/reference/api/pandas.DataFrame.resample.html\n",
        "y = data_grouped['Sales'].resample('MS').mean() # average sales of month will be a BETTER prediction than TOTAL sales \n",
        "y.head()\n"
      ],
      "execution_count": 39,
      "outputs": [
        {
          "output_type": "execute_result",
          "data": {
            "text/plain": [
              "Order Date\n",
              "2014-01-01    480.194231\n",
              "2014-02-01    367.931600\n",
              "2014-03-01    857.291529\n",
              "2014-04-01    567.488357\n",
              "2014-05-01    432.049187\n",
              "Freq: MS, Name: Sales, dtype: float64"
            ]
          },
          "metadata": {
            "tags": []
          },
          "execution_count": 39
        }
      ]
    },
    {
      "cell_type": "code",
      "metadata": {
        "id": "vP4zxthBT-Hz",
        "colab_type": "code",
        "colab": {
          "base_uri": "https://localhost:8080/",
          "height": 468
        },
        "outputId": "fbe7dfb5-f0ab-4476-ab20-fd4c2ae7abf5"
      },
      "source": [
        "\n",
        "# VERY VERY IMPORTANT \n",
        "# Discrete and Continuous -> book -> Ralph L Grimaldi's discrete and combinatorial maths\n",
        "\n",
        " # 48 was expected for 4 years- Proper representation for all discrete timestamps\n",
        "# Time Series, Singals and Systems, Sound -> sampling \n",
        "y.tail()\n",
        "y['2014':'2015']\n",
        "# [red, blue, red, blue, ?]\n",
        "\n",
        "# Please resume at 11:55 "
      ],
      "execution_count": 47,
      "outputs": [
        {
          "output_type": "execute_result",
          "data": {
            "text/plain": [
              "Order Date\n",
              "2014-01-01     480.194231\n",
              "2014-02-01     367.931600\n",
              "2014-03-01     857.291529\n",
              "2014-04-01     567.488357\n",
              "2014-05-01     432.049187\n",
              "2014-06-01     695.059242\n",
              "2014-07-01     601.169500\n",
              "2014-08-01     457.521656\n",
              "2014-09-01     992.353367\n",
              "2014-10-01     769.015437\n",
              "2014-11-01     980.221486\n",
              "2014-12-01    1532.298325\n",
              "2015-01-01     978.328467\n",
              "2015-02-01     522.395667\n",
              "2015-03-01     781.236437\n",
              "2015-04-01     805.822962\n",
              "2015-05-01     624.996700\n",
              "2015-06-01     428.565500\n",
              "2015-07-01     719.706316\n",
              "2015-08-01     602.412012\n",
              "2015-09-01    1382.790684\n",
              "2015-10-01     632.980184\n",
              "2015-11-01    1286.701354\n",
              "2015-12-01    1049.355418\n",
              "Freq: MS, Name: Sales, dtype: float64"
            ]
          },
          "metadata": {
            "tags": []
          },
          "execution_count": 47
        }
      ]
    },
    {
      "cell_type": "code",
      "metadata": {
        "id": "a8DGKMYmcUPH",
        "colab_type": "code",
        "colab": {}
      },
      "source": [
        ""
      ],
      "execution_count": 0,
      "outputs": []
    }
  ]
}