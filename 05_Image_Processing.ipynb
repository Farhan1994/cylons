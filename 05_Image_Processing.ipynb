{
  "nbformat": 4,
  "nbformat_minor": 0,
  "metadata": {
    "colab": {
      "name": "05 Image Processing.ipynb",
      "provenance": [],
      "collapsed_sections": [],
      "authorship_tag": "ABX9TyMoB1DDaG3wyMza6uP4tBWe",
      "include_colab_link": true
    },
    "kernelspec": {
      "name": "python3",
      "display_name": "Python 3"
    }
  },
  "cells": [
    {
      "cell_type": "markdown",
      "metadata": {
        "id": "view-in-github",
        "colab_type": "text"
      },
      "source": [
        "<a href=\"https://colab.research.google.com/github/a-forty-two/cylons/blob/master/05_Image_Processing.ipynb\" target=\"_parent\"><img src=\"https://colab.research.google.com/assets/colab-badge.svg\" alt=\"Open In Colab\"/></a>"
      ]
    },
    {
      "cell_type": "code",
      "metadata": {
        "id": "PSUVMXzLZCqs",
        "colab_type": "code",
        "colab": {
          "base_uri": "https://localhost:8080/",
          "height": 35
        },
        "outputId": "7621079c-9b58-4e57-81f5-cf8cb32ea1c3"
      },
      "source": [
        "!ls\n"
      ],
      "execution_count": 1,
      "outputs": [
        {
          "output_type": "stream",
          "text": [
            "abc01.jpg  abc02.jpg  gpc-t-2.jpg  sample_data\n"
          ],
          "name": "stdout"
        }
      ]
    },
    {
      "cell_type": "code",
      "metadata": {
        "id": "SxreFx5uhdJr",
        "colab_type": "code",
        "colab": {
          "base_uri": "https://localhost:8080/",
          "height": 117
        },
        "outputId": "7ee5411a-d36d-41c3-982d-0d347a5b4407"
      },
      "source": [
        "# NUMBERS representing a 2-D array are images! \n",
        "# All manipulation that could happen on numbers, can also happen on images\n",
        "# MATRICES -> Discrete and Combinatorial Math by Ralph L Grimaldi -> Zero-One matrices, matrix math \n",
        "import cv2 # OPEN CV -> C++\n",
        "import numpy as np\n",
        "from google.colab.patches import cv2_imshow # Only on Google Colab\n",
        "\n",
        "im1 = cv2.imread('abc01.jpg')\n",
        "im2 = cv2.imread('gpc-t-2.jpg')\n",
        "\n",
        "im1_resized = cv2.resize(im1, (100,100))\n",
        "im2_resized = cv2.resize(im2, (100,100))\n",
        "\n",
        "# A and B -> xA + yB -> x and y are weights! \n",
        "weightedSum = cv2.addWeighted(im1_resized, 0.75, im2_resized,0.2, 0)\n",
        "# 0.5 * im1 + 0.4 * im2 = y\n",
        "# Only for google colab, for rest use cv2.imshow(weightedSum)\n",
        "cv2_imshow(weightedSum)\n",
        "\n",
        "if cv2.waitKey(0) & 0xff == 27: # CV2 cleaning garbage \n",
        "  cv2.destroyAllWindows()\n",
        "# SUPERIMPOSING images\n",
        "\n"
      ],
      "execution_count": 13,
      "outputs": [
        {
          "output_type": "display_data",
          "data": {
            "image/png": "[encoded data removed]",
            "text/plain": [
              "<PIL.Image.Image image mode=RGB size=100x100 at 0x7F96B0AF97B8>"
            ]
          },
          "metadata": {
            "tags": []
          }
        }
      ]
    },
    {
      "cell_type": "code",
      "metadata": {
        "id": "jQr8KBFhj9Da",
        "colab_type": "code",
        "colab": {
          "base_uri": "https://localhost:8080/",
          "height": 35
        },
        "outputId": "0e3fb687-eac3-493f-8a46-232afadc949d"
      },
      "source": [
        "!ls"
      ],
      "execution_count": 8,
      "outputs": [
        {
          "output_type": "stream",
          "text": [
            "abc01.jpg  abc02.jpg  bg1.png  bg2.png\tgpc-t-2.jpg  sample_data\n"
          ],
          "name": "stdout"
        }
      ]
    },
    {
      "cell_type": "code",
      "metadata": {
        "id": "TRLPg4SanBiL",
        "colab_type": "code",
        "colab": {
          "base_uri": "https://localhost:8080/",
          "height": 317
        },
        "outputId": "287ca196-e30f-4988-f0cd-cfd0d8b634d9"
      },
      "source": [
        "import cv2\n",
        "import numpy as np\n",
        "from google.colab.patches import cv2_imshow # Only on Google Colab\n",
        "\n",
        "i1 = cv2.imread('bg1.png')\n",
        "i2 = cv2.imread('bg2.png')\n",
        "\n",
        "# there are 2 ways to manage image sizes -> EITHER RESIZE or create images of same size from source itself!\n",
        "# LATTER APPROACH would mean 1 less line to execute! \n",
        "newimage = cv2.subtract(i2,i1) # i1-i2 -> ORDER MATTERS \n",
        "cv2_imshow(i1)\n",
        "cv2_imshow(i2)\n",
        "cv2_imshow(newimage)\n",
        "if cv2.waitKey(0) & 0xff == 27:\n",
        "  cv2.destroyAllWindows()\n",
        "# WHITE encoding is 1, and black is 0 \n",
        "# WHITE - WHITE = 0 (0 is rep by black, hence in top left we see black)\n",
        "# 1 - 1 = 0 (White area-White area)\n",
        "\n",
        "# in central area -> 1 and black is 0 -> 1 - 0 = 1 (White area- black area)\n",
        "\n",
        "# the centre most -> 0 - 0 = 0 (black area- black area)"
      ],
      "execution_count": 14,
      "outputs": [
        {
          "output_type": "display_data",
          "data": {
            "image/png": "[encoded data removed]",
            "text/plain": [
              "<PIL.Image.Image image mode=RGB size=100x100 at 0x7F96B0B0A5C0>"
            ]
          },
          "metadata": {
            "tags": []
          }
        },
        {
          "output_type": "display_data",
          "data": {
            "image/png": "[encoded data removed]",
            "text/plain": [
              "<PIL.Image.Image image mode=RGB size=100x100 at 0x7F96B0B0A4E0>"
            ]
          },
          "metadata": {
            "tags": []
          }
        },
        {
          "output_type": "display_data",
          "data": {
            "image/png": "[encoded data removed]",
            "text/plain": [
              "<PIL.Image.Image image mode=RGB size=100x100 at 0x7F96B0B0A550>"
            ]
          },
          "metadata": {
            "tags": []
          }
        }
      ]
    },
    {
      "cell_type": "markdown",
      "metadata": {
        "id": "gvEFsRxRrYSp",
        "colab_type": "text"
      },
      "source": [
        "image 1        image 2 \n",
        "\n",
        "1  1  1      - 0 0 0  \n",
        "\n",
        "1  1  0      - 1 1 0\n",
        "\n",
        "1  0  0      - 1 0 0\n",
        "\n",
        "image 3 = image 1 - image 2\n",
        "\n",
        "[1-0] [1-0] [1-0]\n",
        "\n",
        "[1-1] [1-1] [0-0]\n",
        "\n",
        "[1-1] [0-0] [0-0]\n",
        "\n",
        "image 3\n",
        "\n",
        "1   1  1\n",
        "\n",
        "0   0  0\n",
        "\n",
        "0   0  0\n"
      ]
    },
    {
      "cell_type": "code",
      "metadata": {
        "id": "eRqhIJYnnmb7",
        "colab_type": "code",
        "colab": {
          "base_uri": "https://localhost:8080/",
          "height": 635
        },
        "outputId": "e1668f0c-e111-4b30-b6e4-ff7e25960bc2"
      },
      "source": [
        "# & | XOR, NAND \n",
        "# XOR -> 0 & 0 is 0, 1 & 1 is also 0! Only either of them needs to be 1 for XOR gate\n",
        "\n",
        "import cv2\n",
        "import numpy as np\n",
        "\n",
        "from google.colab.patches import cv2_imshow # Only on Google Colab\n",
        "\n",
        "i1 = cv2.imread('bg3.png')\n",
        "i2 = cv2.imread('bg4.png')\n",
        "\n",
        "i_and = cv2.bitwise_and(i2, i1, mask=None)\n",
        "cv2_imshow(i1)\n",
        "cv2_imshow(i2)\n",
        "print('ANDing the images')\n",
        "cv2_imshow(i_and)\n",
        "\n",
        "if cv2.waitKey(0) & 0xff == 27: # GARBAGE cleaning from memory \n",
        "  cv2.destroyAllWindows()"
      ],
      "execution_count": 17,
      "outputs": [
        {
          "output_type": "display_data",
          "data": {
            "image/png": "[encoded data removed]",
            "text/plain": [
              "<PIL.Image.Image image mode=RGB size=400x200 at 0x7F96B0AF96D8>"
            ]
          },
          "metadata": {
            "tags": []
          }
        },
        {
          "output_type": "display_data",
          "data": {
            "image/png": "[encoded data removed]",
            "text/plain": [
              "<PIL.Image.Image image mode=RGB size=400x200 at 0x7F96B0AF9CC0>"
            ]
          },
          "metadata": {
            "tags": []
          }
        },
        {
          "output_type": "stream",
          "text": [
            "ANDing the images\n"
          ],
          "name": "stdout"
        },
        {
          "output_type": "display_data",
          "data": {
            "image/png": "[encoded data removed]",
            "text/plain": [
              "<PIL.Image.Image image mode=RGB size=400x200 at 0x7F96B0AF9358>"
            ]
          },
          "metadata": {
            "tags": []
          }
        }
      ]
    },
    {
      "cell_type": "code",
      "metadata": {
        "id": "ii9K0B1wvgM3",
        "colab_type": "code",
        "colab": {
          "base_uri": "https://localhost:8080/",
          "height": 635
        },
        "outputId": "5696e4b0-1fa9-426f-fa82-8d619f649505"
      },
      "source": [
        "import cv2\n",
        "import numpy as np\n",
        "\n",
        "from google.colab.patches import cv2_imshow # Only on Google Colab\n",
        "\n",
        "i1 = cv2.imread('bg3.png')\n",
        "i2 = cv2.imread('bg4.png')\n",
        "\n",
        "i_or = cv2.bitwise_or(i2, i1, mask=None)\n",
        "cv2_imshow(i1)\n",
        "cv2_imshow(i2)\n",
        "print('ORing the images')\n",
        "cv2_imshow(i_or)\n",
        "\n",
        "if cv2.waitKey(0) & 0xff == 27: # GARBAGE cleaning from memory \n",
        "  cv2.destroyAllWindows()"
      ],
      "execution_count": 18,
      "outputs": [
        {
          "output_type": "display_data",
          "data": {
            "image/png": "[encoded data removed]",
            "text/plain": [
              "<PIL.Image.Image image mode=RGB size=400x200 at 0x7F96B0AF9C50>"
            ]
          },
          "metadata": {
            "tags": []
          }
        },
        {
          "output_type": "display_data",
          "data": {
            "image/png": "[encoded data removed]",
            "text/plain": [
              "<PIL.Image.Image image mode=RGB size=400x200 at 0x7F96B0AF9D68>"
            ]
          },
          "metadata": {
            "tags": []
          }
        },
        {
          "output_type": "stream",
          "text": [
            "ORing the images\n"
          ],
          "name": "stdout"
        },
        {
          "output_type": "display_data",
          "data": {
            "image/png": "[encoded data removed]",
            "text/plain": [
              "<PIL.Image.Image image mode=RGB size=400x200 at 0x7F96B0AF9C50>"
            ]
          },
          "metadata": {
            "tags": []
          }
        }
      ]
    },
    {
      "cell_type": "code",
      "metadata": {
        "id": "rxpIqYXBwu7C",
        "colab_type": "code",
        "colab": {
          "base_uri": "https://localhost:8080/",
          "height": 635
        },
        "outputId": "a2fed6a2-6dcd-4330-f89a-8b88f9db04aa"
      },
      "source": [
        "import cv2\n",
        "import numpy as np\n",
        "\n",
        "from google.colab.patches import cv2_imshow # Only on Google Colab\n",
        "\n",
        "i1 = cv2.imread('bg3.png')\n",
        "i2 = cv2.imread('bg4.png')\n",
        "\n",
        "i_xor = cv2.bitwise_xor(i2, i1, mask=None)\n",
        "cv2_imshow(i1)\n",
        "cv2_imshow(i2)\n",
        "print('XORing the images')\n",
        "cv2_imshow(i_xor)\n",
        "\n",
        "# XOR tells you common area between images, all diff area is white, all same area is black \n",
        "\n",
        "if cv2.waitKey(0) & 0xff == 27: # GARBAGE cleaning from memory \n",
        "  cv2.destroyAllWindows()"
      ],
      "execution_count": 19,
      "outputs": [
        {
          "output_type": "display_data",
          "data": {
            "image/png": "[encoded data removed]",
            "text/plain": [
              "<PIL.Image.Image image mode=RGB size=400x200 at 0x7F96B0B0A9B0>"
            ]
          },
          "metadata": {
            "tags": []
          }
        },
        {
          "output_type": "display_data",
          "data": {
            "image/png": "[encoded data removed]",
            "text/plain": [
              "<PIL.Image.Image image mode=RGB size=400x200 at 0x7F96B0B0A630>"
            ]
          },
          "metadata": {
            "tags": []
          }
        },
        {
          "output_type": "stream",
          "text": [
            "XORing the images\n"
          ],
          "name": "stdout"
        },
        {
          "output_type": "display_data",
          "data": {
            "image/png": "[encoded data removed]",
            "text/plain": [
              "<PIL.Image.Image image mode=RGB size=400x200 at 0x7F96B0B0A9B0>"
            ]
          },
          "metadata": {
            "tags": []
          }
        }
      ]
    },
    {
      "cell_type": "code",
      "metadata": {
        "id": "KNZ44BPxxKC1",
        "colab_type": "code",
        "colab": {
          "base_uri": "https://localhost:8080/",
          "height": 452
        },
        "outputId": "0320773c-7749-4b6e-b5f6-ef3267a2cacf"
      },
      "source": [
        "# NOT ops is used to reverse the image \n",
        "\n",
        "import cv2\n",
        "import numpy as np\n",
        "\n",
        "from google.colab.patches import cv2_imshow # Only on Google Colab\n",
        "\n",
        "i1 = cv2.imread('bg4.png')\n",
        "import time\n",
        "starttime = time.time()\n",
        "i_NOT = cv2.bitwise_not(i1)\n",
        "endtime = time.time()\n",
        "print(endtime-starttime)\n",
        "cv2_imshow(i1)\n",
        "\n",
        "print('Inversing the images')\n",
        "cv2_imshow(i_NOT)\n",
        "\n",
        "# XOR tells you common area between images, all diff area is white, all same area is black \n",
        "\n",
        "if cv2.waitKey(0) & 0xff == 27: # GARBAGE cleaning from memory \n",
        "  cv2.destroyAllWindows()"
      ],
      "execution_count": 28,
      "outputs": [
        {
          "output_type": "stream",
          "text": [
            "0.00016045570373535156\n"
          ],
          "name": "stdout"
        },
        {
          "output_type": "display_data",
          "data": {
            "image/png": "[encoded data removed]",
            "text/plain": [
              "<PIL.Image.Image image mode=RGB size=400x200 at 0x7F96B0AF2EF0>"
            ]
          },
          "metadata": {
            "tags": []
          }
        },
        {
          "output_type": "stream",
          "text": [
            "Inversing the images\n"
          ],
          "name": "stdout"
        },
        {
          "output_type": "display_data",
          "data": {
            "image/png": "[encoded data removed]",
            "text/plain": [
              "<PIL.Image.Image image mode=RGB size=400x200 at 0x7F96B0AF2F98>"
            ]
          },
          "metadata": {
            "tags": []
          }
        }
      ]
    },
    {
      "cell_type": "code",
      "metadata": {
        "id": "Vtmab6zIxrtK",
        "colab_type": "code",
        "colab": {
          "base_uri": "https://localhost:8080/",
          "height": 235
        },
        "outputId": "ab51d378-deff-4032-efbc-28fb9cd511ac"
      },
      "source": [
        "import cv2 # OPEN CV -> C++\n",
        "import numpy as np\n",
        "from google.colab.patches import cv2_imshow # Only on Google Colab\n",
        "\n",
        "im1 = cv2.imread('bg3.png')\n",
        "im2 = cv2.imread('bg4.png')\n",
        "import time\n",
        "# A and B -> xA + yB -> x and y are weights! \n",
        "starttime=time.time()\n",
        "weightedSum = cv2.addWeighted(im1, 0.75, im2,0.2, 0)\n",
        "endtime = time.time()\n",
        "print(endtime-starttime)\n",
        "\n",
        "# 0.5 * im1 + 0.4 * im2 = y\n",
        "# Only for google colab, for rest use cv2.imshow(weightedSum)\n",
        "cv2_imshow(weightedSum)\n"
      ],
      "execution_count": 27,
      "outputs": [
        {
          "output_type": "stream",
          "text": [
            "0.00037860870361328125\n"
          ],
          "name": "stdout"
        },
        {
          "output_type": "display_data",
          "data": {
            "image/png": "[encoded data removed]",
            "text/plain": [
              "<PIL.Image.Image image mode=RGB size=400x200 at 0x7F96B0AF9E48>"
            ]
          },
          "metadata": {
            "tags": []
          }
        }
      ]
    },
    {
      "cell_type": "code",
      "metadata": {
        "id": "_2Hm2rAKyscT",
        "colab_type": "code",
        "colab": {}
      },
      "source": [
        "#  1010 -> 10\n",
        "#  1111 -> 15\n",
        "#  XOR -> 0101 -> 5\n",
        "\n",
        "# POWER -> X 2  and /2 -> BITWISE LEFT SHIFT AND RIGHT SHIFT operation\n",
        "\n",
        "# 4 -> 0100\n",
        "# X 2 -> left shift by 1 -> 0100 << 1 = 1000 = 8\n",
        "# / 2 -> right shift by 1 -> 0100 >> 1 = 0010 = 2 "
      ],
      "execution_count": 0,
      "outputs": []
    }
  ]
}