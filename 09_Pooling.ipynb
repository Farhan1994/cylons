{
  "nbformat": 4,
  "nbformat_minor": 0,
  "metadata": {
    "colab": {
      "name": "09 Pooling ",
      "provenance": [],
      "collapsed_sections": [],
      "authorship_tag": "ABX9TyN+xeaQehd/WOal3y226dru",
      "include_colab_link": true
    },
    "kernelspec": {
      "name": "python3",
      "display_name": "Python 3"
    }
  },
  "cells": [
    {
      "cell_type": "markdown",
      "metadata": {
        "id": "view-in-github",
        "colab_type": "text"
      },
      "source": [
        "<a href=\"https://colab.research.google.com/github/a-forty-two/cylons/blob/master/09_Pooling.ipynb\" target=\"_parent\"><img src=\"https://colab.research.google.com/assets/colab-badge.svg\" alt=\"Open In Colab\"/></a>"
      ]
    },
    {
      "cell_type": "code",
      "metadata": {
        "id": "qS5WwN39ZG6o",
        "colab_type": "code",
        "colab": {}
      },
      "source": [
        "# AVERAGE -> special layer called GloablAveragePooling1D \n",
        "\n",
        "# each word broken into 3 vectors\n",
        "# w1 -> v1 v2 v3   v1:|A|  np.mean(v1:3)\n",
        "# w2 -> v4 v5 v6   v2 |1|\n",
        "# w3 -> v7 v8 v9   v3 |D|   \n"
      ],
      "execution_count": 0,
      "outputs": []
    },
    {
      "cell_type": "code",
      "metadata": {
        "id": "2JIrjWh_Z1Z2",
        "colab_type": "code",
        "colab": {
          "base_uri": "https://localhost:8080/",
          "height": 52
        },
        "outputId": "aabf3d3d-10f0-47f3-f35d-93ed72809ec1"
      },
      "source": [
        "%tensorflow_version 1.x\n",
        "import tensorflow as tf\n",
        "print(tf.__version__)"
      ],
      "execution_count": 1,
      "outputs": [
        {
          "output_type": "stream",
          "text": [
            "TensorFlow 1.x selected.\n",
            "1.15.2\n"
          ],
          "name": "stdout"
        }
      ]
    },
    {
      "cell_type": "code",
      "metadata": {
        "id": "kc1O3yAvdcKl",
        "colab_type": "code",
        "colab": {
          "base_uri": "https://localhost:8080/",
          "height": 35
        },
        "outputId": "b526b2c4-b5fc-47e3-db1a-5263b437a179"
      },
      "source": [
        "# totally randomly \n",
        "temp = [0.,0.,1.,0.,0.,0.,2.,1.,0.,1.]\n",
        "values = tf.reshape(temp, [1,1,2,5]) # 1 list-> 1 list -> 2 list -> 5 elements each \n",
        "values\n",
        "# TF SESSION! "
      ],
      "execution_count": 3,
      "outputs": [
        {
          "output_type": "execute_result",
          "data": {
            "text/plain": [
              "<tf.Tensor 'Reshape_1:0' shape=(1, 1, 2, 5) dtype=float32>"
            ]
          },
          "metadata": {
            "tags": []
          },
          "execution_count": 3
        }
      ]
    },
    {
      "cell_type": "code",
      "metadata": {
        "id": "oMEdSgaBhLeB",
        "colab_type": "code",
        "colab": {}
      },
      "source": [
        "avgpool = tf.nn.pool(input=values, window_shape=(2,2), pooling_type='AVG', padding='SAME')\n",
        "maxpool = tf.nn.pool(input=values, window_shape=(2,2), pooling_type='MAX', padding='SAME')\n"
      ],
      "execution_count": 0,
      "outputs": []
    },
    {
      "cell_type": "code",
      "metadata": {
        "id": "_V4A9tcneEZa",
        "colab_type": "code",
        "colab": {}
      },
      "source": [
        "# Data Structures: Mark Allen Weiss \n",
        "# https://www.careercup.com/page?pid=data-structures-interview-questions\n"
      ],
      "execution_count": 0,
      "outputs": []
    }
  ]
}