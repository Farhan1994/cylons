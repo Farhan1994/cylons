{
  "nbformat": 4,
  "nbformat_minor": 0,
  "metadata": {
    "colab": {
      "name": "03 DecisionTree",
      "provenance": [],
      "collapsed_sections": [],
      "authorship_tag": "ABX9TyPQ3zFqh4+8ODa2p9mdFaD9",
      "include_colab_link": true
    },
    "kernelspec": {
      "name": "python3",
      "display_name": "Python 3"
    }
  },
  "cells": [
    {
      "cell_type": "markdown",
      "metadata": {
        "id": "view-in-github",
        "colab_type": "text"
      },
      "source": [
        "<a href=\"https://colab.research.google.com/github/a-forty-two/cylons/blob/master/03_DecisionTree.ipynb\" target=\"_parent\"><img src=\"https://colab.research.google.com/assets/colab-badge.svg\" alt=\"Open In Colab\"/></a>"
      ]
    },
    {
      "cell_type": "code",
      "metadata": {
        "id": "C18CwUrxklfn",
        "colab_type": "code",
        "outputId": "14bfbffe-7149-4020-bab4-1d5baf9d256f",
        "colab": {
          "base_uri": "https://localhost:8080/",
          "height": 35
        }
      },
      "source": [
        "# We'll discuss math tomorrow \n",
        "!ls"
      ],
      "execution_count": 0,
      "outputs": [
        {
          "output_type": "stream",
          "text": [
            "data.csv  sample_data\n"
          ],
          "name": "stdout"
        }
      ]
    },
    {
      "cell_type": "code",
      "metadata": {
        "id": "fy44NKaVqQA2",
        "colab_type": "code",
        "outputId": "af1f89a4-4221-4cd2-b510-850e3b1f8e82",
        "colab": {
          "base_uri": "https://localhost:8080/",
          "height": 202
        }
      },
      "source": [
        "import numpy as np\n",
        "import pandas as pd\n",
        "data = pd.read_csv('data.csv', header=0)\n",
        "df = data.iloc[:, [1,2,5,6,9]]\n",
        "df.head()"
      ],
      "execution_count": 8,
      "outputs": [
        {
          "output_type": "execute_result",
          "data": {
            "text/html": [
              "<div>\n",
              "<style scoped>\n",
              "    .dataframe tbody tr th:only-of-type {\n",
              "        vertical-align: middle;\n",
              "    }\n",
              "\n",
              "    .dataframe tbody tr th {\n",
              "        vertical-align: top;\n",
              "    }\n",
              "\n",
              "    .dataframe thead th {\n",
              "        text-align: right;\n",
              "    }\n",
              "</style>\n",
              "<table border=\"1\" class=\"dataframe\">\n",
              "  <thead>\n",
              "    <tr style=\"text-align: right;\">\n",
              "      <th></th>\n",
              "      <th>diagnosis</th>\n",
              "      <th>radius_mean</th>\n",
              "      <th>area_mean</th>\n",
              "      <th>smoothness_mean</th>\n",
              "      <th>concave points_mean</th>\n",
              "    </tr>\n",
              "  </thead>\n",
              "  <tbody>\n",
              "    <tr>\n",
              "      <th>0</th>\n",
              "      <td>M</td>\n",
              "      <td>17.99</td>\n",
              "      <td>1001.0</td>\n",
              "      <td>0.11840</td>\n",
              "      <td>0.14710</td>\n",
              "    </tr>\n",
              "    <tr>\n",
              "      <th>1</th>\n",
              "      <td>M</td>\n",
              "      <td>20.57</td>\n",
              "      <td>1326.0</td>\n",
              "      <td>0.08474</td>\n",
              "      <td>0.07017</td>\n",
              "    </tr>\n",
              "    <tr>\n",
              "      <th>2</th>\n",
              "      <td>M</td>\n",
              "      <td>19.69</td>\n",
              "      <td>1203.0</td>\n",
              "      <td>0.10960</td>\n",
              "      <td>0.12790</td>\n",
              "    </tr>\n",
              "    <tr>\n",
              "      <th>3</th>\n",
              "      <td>M</td>\n",
              "      <td>11.42</td>\n",
              "      <td>386.1</td>\n",
              "      <td>0.14250</td>\n",
              "      <td>0.10520</td>\n",
              "    </tr>\n",
              "    <tr>\n",
              "      <th>4</th>\n",
              "      <td>M</td>\n",
              "      <td>20.29</td>\n",
              "      <td>1297.0</td>\n",
              "      <td>0.10030</td>\n",
              "      <td>0.10430</td>\n",
              "    </tr>\n",
              "  </tbody>\n",
              "</table>\n",
              "</div>"
            ],
            "text/plain": [
              "  diagnosis  radius_mean  area_mean  smoothness_mean  concave points_mean\n",
              "0         M        17.99     1001.0          0.11840              0.14710\n",
              "1         M        20.57     1326.0          0.08474              0.07017\n",
              "2         M        19.69     1203.0          0.10960              0.12790\n",
              "3         M        11.42      386.1          0.14250              0.10520\n",
              "4         M        20.29     1297.0          0.10030              0.10430"
            ]
          },
          "metadata": {
            "tags": []
          },
          "execution_count": 8
        }
      ]
    },
    {
      "cell_type": "code",
      "metadata": {
        "id": "CVi2slg9qcEX",
        "colab_type": "code",
        "colab": {}
      },
      "source": [
        "y = df.pop('diagnosis') # REMOVE the feature from df and put into y \n",
        "x = df\n",
        "# y = f(x) -> equation for DTree \n",
        "from sklearn.model_selection import train_test_split\n",
        "xtrain,xtest, ytrain, ytest = train_test_split(x, y, test_size=0.2, random_state=42)\n"
      ],
      "execution_count": 0,
      "outputs": []
    },
    {
      "cell_type": "code",
      "metadata": {
        "id": "yDTD6DjtrIuI",
        "colab_type": "code",
        "outputId": "8b1e5020-06e5-4429-9426-6a0d992f4bc1",
        "colab": {
          "base_uri": "https://localhost:8080/",
          "height": 121
        }
      },
      "source": [
        "# Decision Tree, Random Forest -> work on relative comparison -> NORMALIZING or NOT normalizing\n",
        "# may not cause any diff at all \n",
        "from sklearn.tree import DecisionTreeClassifier\n",
        "dtree = DecisionTreeClassifier(max_depth=5)\n",
        "dtree_light =  DecisionTreeClassifier(max_depth=3)\n",
        "dtree_deep =  DecisionTreeClassifier(max_depth=10)\n",
        "dtree.fit(xtrain, ytrain)\n",
        "dtree_light.fit(xtrain, ytrain)\n",
        "dtree_deep.fit(xtrain, ytrain)\n",
        "# WEIGHTS and BIASES, y = Weights * inputs + bias -> MACHINE LEARNING\n",
        "# Decision TREE doesn't help with calculating the above! \n",
        "# it helps finding thresholds within which features take decisions \n"
      ],
      "execution_count": 10,
      "outputs": [
        {
          "output_type": "execute_result",
          "data": {
            "text/plain": [
              "DecisionTreeClassifier(ccp_alpha=0.0, class_weight=None, criterion='gini',\n",
              "                       max_depth=10, max_features=None, max_leaf_nodes=None,\n",
              "                       min_impurity_decrease=0.0, min_impurity_split=None,\n",
              "                       min_samples_leaf=1, min_samples_split=2,\n",
              "                       min_weight_fraction_leaf=0.0, presort='deprecated',\n",
              "                       random_state=None, splitter='best')"
            ]
          },
          "metadata": {
            "tags": []
          },
          "execution_count": 10
        }
      ]
    },
    {
      "cell_type": "code",
      "metadata": {
        "id": "nAwI0Vfprehz",
        "colab_type": "code",
        "colab": {
          "base_uri": "https://localhost:8080/",
          "height": 69
        },
        "outputId": "4bf32450-1969-4c56-a5f4-aade117ad67e"
      },
      "source": [
        "pred1 = dtree.predict(xtest)\n",
        "pred2 = dtree_light.predict(xtest)\n",
        "pred3 = dtree_deep.predict(xtest)\n",
        "from sklearn.metrics import accuracy_score\n",
        "# COMPARING the TREES to each other, not to the actual answer (ytest)\n",
        "score = accuracy_score(pred1, pred2)\n",
        "print(score)\n",
        "score = accuracy_score(pred1, pred3)\n",
        "print(score)\n",
        "score = accuracy_score(pred3, pred2)\n",
        "print(score)\n",
        "# ACCURACY_SCORE(a, b) = (len(any) - mismatches) / len(any)"
      ],
      "execution_count": 15,
      "outputs": [
        {
          "output_type": "stream",
          "text": [
            "0.9122807017543859\n",
            "0.8947368421052632\n",
            "0.9210526315789473\n"
          ],
          "name": "stdout"
        }
      ]
    },
    {
      "cell_type": "code",
      "metadata": {
        "id": "gldwSElpuNty",
        "colab_type": "code",
        "colab": {}
      },
      "source": [
        "from sklearn.tree import plot_tree\n",
        "import matplotlib.pyplot as plt\n",
        "fig = plt.figure()\n",
        "a = plot_tree"
      ],
      "execution_count": 0,
      "outputs": []
    }
  ]
}