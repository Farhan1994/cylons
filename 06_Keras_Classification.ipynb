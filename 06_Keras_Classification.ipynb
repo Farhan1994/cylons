{
  "nbformat": 4,
  "nbformat_minor": 0,
  "metadata": {
    "colab": {
      "name": "06 Keras-Classification.ipynb",
      "provenance": [],
      "collapsed_sections": [],
      "authorship_tag": "ABX9TyPIeOeNOr0nHBtd+t3ho6Ct",
      "include_colab_link": true
    },
    "kernelspec": {
      "name": "python3",
      "display_name": "Python 3"
    }
  },
  "cells": [
    {
      "cell_type": "markdown",
      "metadata": {
        "id": "view-in-github",
        "colab_type": "text"
      },
      "source": [
        "<a href=\"https://colab.research.google.com/github/a-forty-two/cylons/blob/master/06_Keras_Classification.ipynb\" target=\"_parent\"><img src=\"https://colab.research.google.com/assets/colab-badge.svg\" alt=\"Open In Colab\"/></a>"
      ]
    },
    {
      "cell_type": "code",
      "metadata": {
        "id": "YoEiHynq7Njl",
        "colab_type": "code",
        "colab": {
          "base_uri": "https://localhost:8080/",
          "height": 52
        },
        "outputId": "7fce646f-9508-4086-a46a-34f9089657e7"
      },
      "source": [
        "%tensorflow_version 1.x\n",
        "import tensorflow as tf\n",
        "print(tf.__version__)"
      ],
      "execution_count": 1,
      "outputs": [
        {
          "output_type": "stream",
          "text": [
            "TensorFlow 1.x selected.\n",
            "1.15.2\n"
          ],
          "name": "stdout"
        }
      ]
    },
    {
      "cell_type": "code",
      "metadata": {
        "id": "Hl4jCICz7ixV",
        "colab_type": "code",
        "colab": {
          "base_uri": "https://localhost:8080/",
          "height": 211
        },
        "outputId": "0a36b076-d5ea-4a00-c90d-c0e0fc295136"
      },
      "source": [
        "from tensorflow import keras \n",
        "import numpy as np\n",
        "import matplotlib.pyplot as plt\n",
        "\n",
        "# inbuilt dataset from keras \n",
        "(xtrain, ytrain),(xtest,ytest) = keras.datasets.fashion_mnist.load_data()\n",
        "print(len(xtrain))\n",
        "print(len(ytrain))\n"
      ],
      "execution_count": 2,
      "outputs": [
        {
          "output_type": "stream",
          "text": [
            "Downloading data from https://storage.googleapis.com/tensorflow/tf-keras-datasets/train-labels-idx1-ubyte.gz\n",
            "32768/29515 [=================================] - 0s 0us/step\n",
            "Downloading data from https://storage.googleapis.com/tensorflow/tf-keras-datasets/train-images-idx3-ubyte.gz\n",
            "26427392/26421880 [==============================] - 0s 0us/step\n",
            "Downloading data from https://storage.googleapis.com/tensorflow/tf-keras-datasets/t10k-labels-idx1-ubyte.gz\n",
            "8192/5148 [===============================================] - 0s 0us/step\n",
            "Downloading data from https://storage.googleapis.com/tensorflow/tf-keras-datasets/t10k-images-idx3-ubyte.gz\n",
            "4423680/4422102 [==============================] - 0s 0us/step\n",
            "60000\n",
            "60000\n"
          ],
          "name": "stdout"
        }
      ]
    },
    {
      "cell_type": "code",
      "metadata": {
        "id": "U8qlY1Pv8PBZ",
        "colab_type": "code",
        "colab": {}
      },
      "source": [
        ""
      ],
      "execution_count": 0,
      "outputs": []
    },
    {
      "cell_type": "code",
      "metadata": {
        "id": "Gc4tfSDb8ZtD",
        "colab_type": "code",
        "colab": {
          "base_uri": "https://localhost:8080/",
          "height": 1000
        },
        "outputId": "113f47b0-b11e-430d-fab0-98bb323a344a"
      },
      "source": [
        "print(xtrain.shape) # 60,000 sample -> (28,28) image sizes \n",
        "xtrain[0]\n",
        "\n"
      ],
      "execution_count": 7,
      "outputs": [
        {
          "output_type": "stream",
          "text": [
            "(60000, 28, 28)\n"
          ],
          "name": "stdout"
        },
        {
          "output_type": "execute_result",
          "data": {
            "text/plain": [
              "array([[  0,   0,   0,   0,   0,   0,   0,   0,   0,   0,   0,   0,   0,\n",
              "          0,   0,   0,   0,   0,   0,   0,   0,   0,   0,   0,   0,   0,\n",
              "          0,   0],\n",
              "       [  0,   0,   0,   0,   0,   0,   0,   0,   0,   0,   0,   0,   0,\n",
              "          0,   0,   0,   0,   0,   0,   0,   0,   0,   0,   0,   0,   0,\n",
              "          0,   0],\n",
              "       [  0,   0,   0,   0,   0,   0,   0,   0,   0,   0,   0,   0,   0,\n",
              "          0,   0,   0,   0,   0,   0,   0,   0,   0,   0,   0,   0,   0,\n",
              "          0,   0],\n",
              "       [  0,   0,   0,   0,   0,   0,   0,   0,   0,   0,   0,   0,   1,\n",
              "          0,   0,  13,  73,   0,   0,   1,   4,   0,   0,   0,   0,   1,\n",
              "          1,   0],\n",
              "       [  0,   0,   0,   0,   0,   0,   0,   0,   0,   0,   0,   0,   3,\n",
              "          0,  36, 136, 127,  62,  54,   0,   0,   0,   1,   3,   4,   0,\n",
              "          0,   3],\n",
              "       [  0,   0,   0,   0,   0,   0,   0,   0,   0,   0,   0,   0,   6,\n",
              "          0, 102, 204, 176, 134, 144, 123,  23,   0,   0,   0,   0,  12,\n",
              "         10,   0],\n",
              "       [  0,   0,   0,   0,   0,   0,   0,   0,   0,   0,   0,   0,   0,\n",
              "          0, 155, 236, 207, 178, 107, 156, 161, 109,  64,  23,  77, 130,\n",
              "         72,  15],\n",
              "       [  0,   0,   0,   0,   0,   0,   0,   0,   0,   0,   0,   1,   0,\n",
              "         69, 207, 223, 218, 216, 216, 163, 127, 121, 122, 146, 141,  88,\n",
              "        172,  66],\n",
              "       [  0,   0,   0,   0,   0,   0,   0,   0,   0,   1,   1,   1,   0,\n",
              "        200, 232, 232, 233, 229, 223, 223, 215, 213, 164, 127, 123, 196,\n",
              "        229,   0],\n",
              "       [  0,   0,   0,   0,   0,   0,   0,   0,   0,   0,   0,   0,   0,\n",
              "        183, 225, 216, 223, 228, 235, 227, 224, 222, 224, 221, 223, 245,\n",
              "        173,   0],\n",
              "       [  0,   0,   0,   0,   0,   0,   0,   0,   0,   0,   0,   0,   0,\n",
              "        193, 228, 218, 213, 198, 180, 212, 210, 211, 213, 223, 220, 243,\n",
              "        202,   0],\n",
              "       [  0,   0,   0,   0,   0,   0,   0,   0,   0,   1,   3,   0,  12,\n",
              "        219, 220, 212, 218, 192, 169, 227, 208, 218, 224, 212, 226, 197,\n",
              "        209,  52],\n",
              "       [  0,   0,   0,   0,   0,   0,   0,   0,   0,   0,   6,   0,  99,\n",
              "        244, 222, 220, 218, 203, 198, 221, 215, 213, 222, 220, 245, 119,\n",
              "        167,  56],\n",
              "       [  0,   0,   0,   0,   0,   0,   0,   0,   0,   4,   0,   0,  55,\n",
              "        236, 228, 230, 228, 240, 232, 213, 218, 223, 234, 217, 217, 209,\n",
              "         92,   0],\n",
              "       [  0,   0,   1,   4,   6,   7,   2,   0,   0,   0,   0,   0, 237,\n",
              "        226, 217, 223, 222, 219, 222, 221, 216, 223, 229, 215, 218, 255,\n",
              "         77,   0],\n",
              "       [  0,   3,   0,   0,   0,   0,   0,   0,   0,  62, 145, 204, 228,\n",
              "        207, 213, 221, 218, 208, 211, 218, 224, 223, 219, 215, 224, 244,\n",
              "        159,   0],\n",
              "       [  0,   0,   0,   0,  18,  44,  82, 107, 189, 228, 220, 222, 217,\n",
              "        226, 200, 205, 211, 230, 224, 234, 176, 188, 250, 248, 233, 238,\n",
              "        215,   0],\n",
              "       [  0,  57, 187, 208, 224, 221, 224, 208, 204, 214, 208, 209, 200,\n",
              "        159, 245, 193, 206, 223, 255, 255, 221, 234, 221, 211, 220, 232,\n",
              "        246,   0],\n",
              "       [  3, 202, 228, 224, 221, 211, 211, 214, 205, 205, 205, 220, 240,\n",
              "         80, 150, 255, 229, 221, 188, 154, 191, 210, 204, 209, 222, 228,\n",
              "        225,   0],\n",
              "       [ 98, 233, 198, 210, 222, 229, 229, 234, 249, 220, 194, 215, 217,\n",
              "        241,  65,  73, 106, 117, 168, 219, 221, 215, 217, 223, 223, 224,\n",
              "        229,  29],\n",
              "       [ 75, 204, 212, 204, 193, 205, 211, 225, 216, 185, 197, 206, 198,\n",
              "        213, 240, 195, 227, 245, 239, 223, 218, 212, 209, 222, 220, 221,\n",
              "        230,  67],\n",
              "       [ 48, 203, 183, 194, 213, 197, 185, 190, 194, 192, 202, 214, 219,\n",
              "        221, 220, 236, 225, 216, 199, 206, 186, 181, 177, 172, 181, 205,\n",
              "        206, 115],\n",
              "       [  0, 122, 219, 193, 179, 171, 183, 196, 204, 210, 213, 207, 211,\n",
              "        210, 200, 196, 194, 191, 195, 191, 198, 192, 176, 156, 167, 177,\n",
              "        210,  92],\n",
              "       [  0,   0,  74, 189, 212, 191, 175, 172, 175, 181, 185, 188, 189,\n",
              "        188, 193, 198, 204, 209, 210, 210, 211, 188, 188, 194, 192, 216,\n",
              "        170,   0],\n",
              "       [  2,   0,   0,   0,  66, 200, 222, 237, 239, 242, 246, 243, 244,\n",
              "        221, 220, 193, 191, 179, 182, 182, 181, 176, 166, 168,  99,  58,\n",
              "          0,   0],\n",
              "       [  0,   0,   0,   0,   0,   0,   0,  40,  61,  44,  72,  41,  35,\n",
              "          0,   0,   0,   0,   0,   0,   0,   0,   0,   0,   0,   0,   0,\n",
              "          0,   0],\n",
              "       [  0,   0,   0,   0,   0,   0,   0,   0,   0,   0,   0,   0,   0,\n",
              "          0,   0,   0,   0,   0,   0,   0,   0,   0,   0,   0,   0,   0,\n",
              "          0,   0],\n",
              "       [  0,   0,   0,   0,   0,   0,   0,   0,   0,   0,   0,   0,   0,\n",
              "          0,   0,   0,   0,   0,   0,   0,   0,   0,   0,   0,   0,   0,\n",
              "          0,   0]], dtype=uint8)"
            ]
          },
          "metadata": {
            "tags": []
          },
          "execution_count": 7
        }
      ]
    },
    {
      "cell_type": "code",
      "metadata": {
        "id": "gzhnmPii9DR9",
        "colab_type": "code",
        "colab": {
          "base_uri": "https://localhost:8080/",
          "height": 283
        },
        "outputId": "2a49f54f-89dd-43d3-b7fb-a8290a81f0d2"
      },
      "source": [
        "class_names = ['T-shirt/top', 'Trouser', 'Pullover', 'Dress', 'Coat','Sandal', 'Shirt', 'Sneaker', 'Bag', 'Ankle boot']\n",
        "print(class_names[ytrain[0]])\n",
        "plt.figure()\n",
        "plt.imshow(xtrain[0], cmap='gray')\n",
        "plt.colorbar()\n",
        "plt.show()"
      ],
      "execution_count": 18,
      "outputs": [
        {
          "output_type": "stream",
          "text": [
            "Ankle boot\n"
          ],
          "name": "stdout"
        },
        {
          "output_type": "display_data",
          "data": {
            "image/png": "[encoded data removed]",
            "text/plain": [
              "<Figure size 432x288 with 2 Axes>"
            ]
          },
          "metadata": {
            "tags": [],
            "needs_background": "light"
          }
        }
      ]
    },
    {
      "cell_type": "code",
      "metadata": {
        "id": "g6cFWki69d5q",
        "colab_type": "code",
        "colab": {
          "base_uri": "https://localhost:8080/",
          "height": 283
        },
        "outputId": "d6fdc1c8-228d-46f5-8ca1-eba71c716af8"
      },
      "source": [
        "print(class_names[ytrain[32]])\n",
        "plt.figure()\n",
        "plt.imshow(xtrain[32], cmap='Greys')\n",
        "plt.colorbar()\n",
        "plt.show()"
      ],
      "execution_count": 20,
      "outputs": [
        {
          "output_type": "stream",
          "text": [
            "Shirt\n"
          ],
          "name": "stdout"
        },
        {
          "output_type": "display_data",
          "data": {
            "image/png": "[encoded data removed]",
            "text/plain": [
              "<Figure size 432x288 with 2 Axes>"
            ]
          },
          "metadata": {
            "tags": [],
            "needs_background": "light"
          }
        }
      ]
    },
    {
      "cell_type": "code",
      "metadata": {
        "id": "laUiOCgU-fSQ",
        "colab_type": "code",
        "colab": {
          "base_uri": "https://localhost:8080/",
          "height": 287
        },
        "outputId": "75eab342-5ca2-40d1-d632-a408d39ccfe6"
      },
      "source": [
        "# NUMBERS are also a MYTHICAL REFERENCE POINT \n",
        "# COMPARISON -> in a graph, as long as SCALE is defined, numbers are just a SCALAR value! \n",
        "# SCALAR values can scale -> if i multiply 2 to it, the result will be twice the quantity! \n",
        "# VECTORS -> VECTOR rules, non-scalar, DIRECTION is just the slope of points -> (y2-y1)/(x2-x1)\n",
        "# SCALAR values on a GRAPH -> Are just a reference point! \n",
        "img = xtrain[32]/255 # ALl the numbers will become between 0 and 1! \n",
        "# min -> 0/255 = 0! max -> 255/255 -> 1 \n",
        "# every other value scaled in between!\n",
        "print(class_names[ytrain[32]])\n",
        "plt.figure()\n",
        "plt.imshow(img)\n",
        "plt.colorbar()\n",
        "plt.show()"
      ],
      "execution_count": 25,
      "outputs": [
        {
          "output_type": "stream",
          "text": [
            "Shirt\n"
          ],
          "name": "stdout"
        },
        {
          "output_type": "display_data",
          "data": {
            "image/png": "[encoded data removed]",
            "text/plain": [
              "<Figure size 432x288 with 2 Axes>"
            ]
          },
          "metadata": {
            "tags": [],
            "needs_background": "light"
          }
        }
      ]
    },
    {
      "cell_type": "code",
      "metadata": {
        "id": "HUFsA4YoBgVn",
        "colab_type": "code",
        "colab": {}
      },
      "source": [
        "# we can normalize entire input data! \n",
        "xtrain_norm = xtrain/255\n",
        "xtest_norm = xtest/255 \n"
      ],
      "execution_count": 0,
      "outputs": []
    },
    {
      "cell_type": "code",
      "metadata": {
        "id": "6rlijRNNB5lY",
        "colab_type": "code",
        "colab": {}
      },
      "source": [
        "# OUR ALGO: I need to CONSIDER my images as a 1-D array and find patterns in that array instead\n",
        "# Convert into 1-D Array -> PATTERN_RECOG \n",
        "HP_hiddenDimensions = 128\n",
        "HP_epochs = 40 \n",
        "\n",
        "# https://en.wikipedia.org/wiki/Activation_function \n",
        "model = keras.Sequential() # this creates a \"SEQUENTIAL MODEL\"-> layers one-after-the-other \n",
        "\n",
        "model.add(keras.layers.Flatten(input_shape=(28,28))) # INPUT LAYER\n",
        "model.add(keras.layers.Dense(HP_hiddenDimensions, activation=tf.nn.relu)) #HIDDEN LAYER\n",
        "model.add(keras.layers.Dense(10, activation=tf.nn.softmax)) # OUTPUT LAYER\n",
        "\n",
        "\n",
        "\n",
        "# EPOCH: How many times to RUN the network? \n",
        "# in last TF example, we were conducting REPEAT via STEPS in a LOOP \n",
        "# WE create a lifecycle -> LOOKING at the SAME data AGAIN AND AGAIN! \n",
        "# EPOCH -> timelines of NN, how many times to repeat?\n",
        "\n"
      ],
      "execution_count": 0,
      "outputs": []
    },
    {
      "cell_type": "code",
      "metadata": {
        "id": "k8r47EL-B5ci",
        "colab_type": "code",
        "colab": {
          "base_uri": "https://localhost:8080/",
          "height": 260
        },
        "outputId": "bc8c0d78-a49a-4bb5-c626-e15f02750d32"
      },
      "source": [
        "model.summary()\n",
        "# https://stackoverflow.com/questions/47312219/what-is-the-definition-of-a-non-trainable-parameter\n",
        "# NOTE: In above, the marked correct answer is wrong, check the most voted\n",
        "# one\n",
        "\n",
        "\n",
        "# FLATTENING LAYER -> job is to convert mult-dim arrays into 1-D array\n",
        "# so on 28X28 = 784\n",
        "# 2 2 2\n",
        "# 2 3 2   ---->     2 2 2 2 3 2 1 1 0\n",
        "# 1 1 0 \n",
        "# Do i need ANY weights or biases at all for this conversion? \n",
        "# AND THAT IS WHY-> PARAM (W, B) are 0 for flattening layer\n",
        "\n",
        "# DENSE LAYER (128)\n",
        "# 1 element was breaking into 128 elements \n",
        "# 784 elements here!!! \n",
        "# HOW MANY W, B \n",
        "# 784 X 128 -> no. of weights \n",
        "# 128 bias will be generated! => 784 X 128 + 128 = 100352 + 128 = 100480\n",
        "# y = mx + c, 784 y's are being calculated\n",
        "\n",
        "# DENSE LAYER (10)\n",
        "# 1 element -> 10 elements \n",
        "# 128 elements ->  128 X 10 + 10 = 1280 weights + 10 bias = 1290! \n",
        "# BIAS = 10 bias\n",
        "\n",
        "\n",
        "# Flattening -> INPUT SIZE -> 28,28    OUTPUT SIZE -> 28X28=784! W,B = 0\n",
        "# Dense -> INPUT SIZE-> 128,    OUTPUT SIZE -> 128 X 784;    W=100352, B=128\n",
        "# Dense -> INput Size-> 784, output-> 10, W,B = 1280, 10\n"
      ],
      "execution_count": 50,
      "outputs": [
        {
          "output_type": "stream",
          "text": [
            "Model: \"sequential_5\"\n",
            "_________________________________________________________________\n",
            "Layer (type)                 Output Shape              Param #   \n",
            "=================================================================\n",
            "flatten_5 (Flatten)          (None, 784)               0         \n",
            "_________________________________________________________________\n",
            "dense_10 (Dense)             (None, 128)               100480    \n",
            "_________________________________________________________________\n",
            "dense_11 (Dense)             (None, 10)                1290      \n",
            "=================================================================\n",
            "Total params: 101,770\n",
            "Trainable params: 101,770\n",
            "Non-trainable params: 0\n",
            "_________________________________________________________________\n"
          ],
          "name": "stdout"
        }
      ]
    },
    {
      "cell_type": "code",
      "metadata": {
        "id": "cJv1itOkW6Ex",
        "colab_type": "code",
        "colab": {}
      },
      "source": [
        "# COMPILATION of model is 3 parts:\n",
        "# HOW TO MODIFY THE LEARNING RATE -> hence LOSS is also modified (OPTIMIZER FUNCTION)\n",
        "# HOW TO CALCULATE THE LOSS\n",
        "# HOW TO MEASURE THE LOSS \n",
        "\n",
        "# KERAS HAS A LOT OF PREDEFINED OPTIMIZERS and LOSS functions \n",
        "# OPTIMIZER GENERAL PURPOSE -> GMAT or GRE -> correct answer-> next question is difficult\n",
        "# incorrectly answered -> next questions are EASY \n",
        "# By sequence of correct/incorrect answers, the TEST knows where a candidate stands in terms of complexity\n",
        "# ADAPTIVE LEARNING! \n",
        "\n",
        "# In KERAS -> RMSProp -> Root Mean Squared Propogation\n",
        "# RMSProp with a MOMENTUM -> ADAM optimizer (MOMENTUM is a FORCE in a direction)\n",
        "# https://www.dlology.com/blog/quick-notes-on-how-to-choose-optimizer-in-keras/\n",
        "\n",
        "# LOSS FUNCTIONS -> HOW TO CALCULATE -> THE FORMULA for CALCULATION\n",
        "# CATEGORICAL problems -> we have 2 kinds of classifications \n",
        "# BINARY and MULTICLASS (TOMORROW MORNING-> remember)\n",
        "# BINARY_CROSSENTROPY and SPARSE_CATEGORICAL_CROSSENTROPY \n",
        "# Minkowski \n",
        "\n",
        "# HOW TO MEASURE THE LOSS -> ACCURACY, RMSE, MAE, Precision, LOSS \n",
        "# MSE, MAE -> they measure NUMBERS \n",
        "# CLASSFICIATION -> Accuracy, precision, recall, F1 Score\n",
        "# Regression -> RMSE, MAE \n",
        "\n",
        "# IMAGES -> MSE "
      ],
      "execution_count": 0,
      "outputs": []
    },
    {
      "cell_type": "code",
      "metadata": {
        "id": "pCQXzVkZZQHf",
        "colab_type": "code",
        "colab": {}
      },
      "source": [
        "model.compile(optimizer='adam', loss='sparse_categorical_crossentropy', metrics=['accuracy'])\n",
        "# AFTER compiling, model has complete info to build the DAG \n",
        "# hence we can begin training process "
      ],
      "execution_count": 0,
      "outputs": []
    },
    {
      "cell_type": "code",
      "metadata": {
        "id": "59MjORUKZ_TR",
        "colab_type": "code",
        "colab": {
          "base_uri": "https://localhost:8080/",
          "height": 347
        },
        "outputId": "ef44c5a5-af2f-49d3-c2e3-e656b9efc366"
      },
      "source": [
        "# the results of training are important \n",
        "HP_epochs = 30 \n",
        "history = model.fit(xtrain_norm, ytrain, epochs=HP_epochs)"
      ],
      "execution_count": 0,
      "outputs": [
        {
          "output_type": "stream",
          "text": [
            "Train on 60000 samples\n",
            "Epoch 1/30\n",
            "60000/60000 [==============================] - 4s 60us/sample - loss: 0.5051 - acc: 0.8218\n",
            "Epoch 2/30\n",
            "60000/60000 [==============================] - 4s 60us/sample - loss: 0.3773 - acc: 0.8637\n",
            "Epoch 3/30\n",
            "60000/60000 [==============================] - 4s 59us/sample - loss: 0.3389 - acc: 0.8754\n",
            "Epoch 4/30\n",
            "60000/60000 [==============================] - 3s 58us/sample - loss: 0.3137 - acc: 0.8847\n",
            "Epoch 5/30\n",
            "60000/60000 [==============================] - 4s 59us/sample - loss: 0.2956 - acc: 0.8901\n",
            "Epoch 6/30\n",
            "60000/60000 [==============================] - 3s 58us/sample - loss: 0.2820 - acc: 0.8944\n",
            "Epoch 7/30\n",
            "60000/60000 [==============================] - 3s 58us/sample - loss: 0.2700 - acc: 0.8997\n",
            "Epoch 8/30\n",
            "60000/60000 [==============================] - 4s 61us/sample - loss: 0.2589 - acc: 0.9027\n",
            "Epoch 9/30\n",
            " 3648/60000 [>.............................] - ETA: 3s - loss: 0.2428 - acc: 0.9109"
          ],
          "name": "stdout"
        }
      ]
    },
    {
      "cell_type": "code",
      "metadata": {
        "id": "DQEhQ7hGbjeW",
        "colab_type": "code",
        "colab": {
          "base_uri": "https://localhost:8080/",
          "height": 225
        },
        "outputId": "828a9861-2777-4c1a-e551-d4c5604e94c6"
      },
      "source": [
        "model.fit(xtrain_norm, ytrain, epochs=5)\n",
        "# OBSERVE that model doesn't start learning from SCRATCH\n",
        "# picks up where it left in previous training "
      ],
      "execution_count": 40,
      "outputs": [
        {
          "output_type": "stream",
          "text": [
            "Train on 60000 samples\n",
            "Epoch 1/5\n",
            "60000/60000 [==============================] - 4s 61us/sample - loss: 0.1788 - acc: 0.9334\n",
            "Epoch 2/5\n",
            "60000/60000 [==============================] - 4s 59us/sample - loss: 0.1745 - acc: 0.9342\n",
            "Epoch 3/5\n",
            "60000/60000 [==============================] - 4s 59us/sample - loss: 0.1701 - acc: 0.9350\n",
            "Epoch 4/5\n",
            "60000/60000 [==============================] - 3s 57us/sample - loss: 0.1666 - acc: 0.9384\n",
            "Epoch 5/5\n",
            "60000/60000 [==============================] - 3s 57us/sample - loss: 0.1618 - acc: 0.9405\n"
          ],
          "name": "stdout"
        },
        {
          "output_type": "execute_result",
          "data": {
            "text/plain": [
              "<tensorflow.python.keras.callbacks.History at 0x7f3513da67f0>"
            ]
          },
          "metadata": {
            "tags": []
          },
          "execution_count": 40
        }
      ]
    },
    {
      "cell_type": "code",
      "metadata": {
        "id": "mM-8zM8ucSdV",
        "colab_type": "code",
        "colab": {
          "base_uri": "https://localhost:8080/",
          "height": 269
        },
        "outputId": "c57d74e8-09d0-4a0d-d2c0-b1974a34f278"
      },
      "source": [
        "# How do we manage epochs? what no. is right or wrong?\n",
        "# EPOCHS shouldn't be a waste of time\n",
        "# if for a time period, my LOSS is not decreasing any further or metrics not improving\n",
        "# then it was a WASTE of time to keep learning! \n",
        "\n",
        "acc_y = history.history['acc']\n",
        "loss_y = history.history['loss']\n",
        "plt.figure()\n",
        "plt.plot(range(HP_epochs), acc_y)\n",
        "plt.plot(range(HP_epochs), loss_y)\n",
        "plt.ylim(0,1) # SCALE values between 0 and 1 \n",
        "plt.show() \n",
        "\n"
      ],
      "execution_count": 46,
      "outputs": [
        {
          "output_type": "display_data",
          "data": {
            "image/png": "[encoded data removed]",
            "text/plain": [
              "<Figure size 432x288 with 1 Axes>"
            ]
          },
          "metadata": {
            "tags": [],
            "needs_background": "light"
          }
        }
      ]
    },
    {
      "cell_type": "code",
      "metadata": {
        "id": "_QzXjsXS_bJM",
        "colab_type": "code",
        "colab": {}
      },
      "source": [
        "# THis means, that numbers could all be normalizing, without LOSING\n",
        "# the actual meaning of our data\n",
        "# If i divide my entire data or multiply with certain number -> MY DATA WOULD NOT CHANGE!\n",
        "# why would it not change? BECAUSE we are not trying to form a add/mul between points\n",
        "# we are trying to compare them -> we know 3 is 1+1+1 \n",
        "# so 3 was thrice larger! "
      ],
      "execution_count": 0,
      "outputs": []
    },
    {
      "cell_type": "code",
      "metadata": {
        "id": "pgrd9ylhBJw0",
        "colab_type": "code",
        "colab": {}
      },
      "source": [
        "# WHY TRAINING AGAIN AND AGIAN? WHY EPOCHS?\n",
        "\n",
        "# NN are expensive -> hence they work in time-bursts \n",
        "# these time bursts are not enough to know EVERY detail about the data \n",
        "# so EPOCH 1 -> MODEL learns all it can about the data -> and then SAVE that learning \n",
        "# in next EPOCH -> MODEL DOESN't START from scratch, but resumes from where it LEFT! \n",
        "\n",
        "# MORE THE EPOCHS -> MORE THE LEARNING -> TOO MANY EPOCHS = OVERFITTING! \n",
        "\n",
        "\n"
      ],
      "execution_count": 0,
      "outputs": []
    }
  ]
}