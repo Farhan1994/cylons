{
  "nbformat": 4,
  "nbformat_minor": 0,
  "metadata": {
    "colab": {
      "name": "04 Censoring Content through Filters.ipynb",
      "provenance": [],
      "authorship_tag": "ABX9TyPqUcAS1S2OODCGix48hxZR",
      "include_colab_link": true
    },
    "kernelspec": {
      "name": "python3",
      "display_name": "Python 3"
    }
  },
  "cells": [
    {
      "cell_type": "markdown",
      "metadata": {
        "id": "view-in-github",
        "colab_type": "text"
      },
      "source": [
        "<a href=\"https://colab.research.google.com/github/a-forty-two/cylons/blob/master/04_Censoring_Content_through_Filters.ipynb\" target=\"_parent\"><img src=\"https://colab.research.google.com/assets/colab-badge.svg\" alt=\"Open In Colab\"/></a>"
      ]
    },
    {
      "cell_type": "code",
      "metadata": {
        "id": "zkP36bmdc7NE",
        "colab_type": "code",
        "colab": {
          "base_uri": "https://localhost:8080/",
          "height": 34
        },
        "outputId": "c9bcb6d9-9eee-402c-8723-c69945714740"
      },
      "source": [
        "\n",
        "# Functions -> One) to clean individual token, two) two swipe through\n",
        "# entire data and use the cleaning function \n",
        "# THink of the first function as our lambda and 2nd as the map function \n",
        "# lambda val: '<CENSORED>' if val.ent_type=='PERSON' else val.string\n",
        "import spacy\n",
        "nlp = spacy.load('en_core_web_sm') \n",
        "def censor(token):\n",
        "  #print(token.ent_type)\n",
        "  if token.ent_type_ == \"PERSON\":\n",
        "    return '<CENSORED>'\n",
        "  else:\n",
        "    return token.string # token.string is raw string w/o any formatting \n",
        "\n",
        "def scrub(text):\n",
        "  doc = nlp(text)\n",
        "  for ent in doc.ents:\n",
        "    ent.merge() # this will combine all entities into a single DS that we will map to \n",
        "  tokens = map(censor, doc)\n",
        "  return \"\".join(tokens)\n",
        "\n",
        "s = \"\"\"In 1940-50 Alan Turing and John Nash evolved the math and game theory\"\"\"\n",
        "print(scrub(s))\n",
        "\n"
      ],
      "execution_count": 7,
      "outputs": [
        {
          "output_type": "stream",
          "text": [
            "In 1940-50 <CENSORED>and <CENSORED>evolved the math and game theory\n"
          ],
          "name": "stdout"
        }
      ]
    },
    {
      "cell_type": "code",
      "metadata": {
        "id": "A1vo8aK4e3Xw",
        "colab_type": "code",
        "colab": {}
      },
      "source": [
        ""
      ],
      "execution_count": 0,
      "outputs": []
    }
  ]
}