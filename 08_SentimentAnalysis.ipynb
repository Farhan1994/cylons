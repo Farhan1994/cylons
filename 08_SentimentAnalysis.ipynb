{
  "nbformat": 4,
  "nbformat_minor": 0,
  "metadata": {
    "colab": {
      "name": "08 SentimentAnalysis.ipynb",
      "provenance": [],
      "authorship_tag": "ABX9TyNce85KqI5g3cjKtTjkUbct",
      "include_colab_link": true
    },
    "kernelspec": {
      "name": "python3",
      "display_name": "Python 3"
    }
  },
  "cells": [
    {
      "cell_type": "markdown",
      "metadata": {
        "id": "view-in-github",
        "colab_type": "text"
      },
      "source": [
        "<a href=\"https://colab.research.google.com/github/a-forty-two/cylons/blob/master/08_SentimentAnalysis.ipynb\" target=\"_parent\"><img src=\"https://colab.research.google.com/assets/colab-badge.svg\" alt=\"Open In Colab\"/></a>"
      ]
    },
    {
      "cell_type": "code",
      "metadata": {
        "id": "TPVe_x8nMtPO",
        "colab_type": "code",
        "colab": {}
      },
      "source": [
        "# NLTK, Spacy, Textacy -> MANIPULATE TEXT -> NLP Pipelines \n",
        "\n",
        "# ML -> NUMBERS only \n",
        "# Approaches to CONVERT text into NUMBERS or VECTORS or TENSORS \n",
        "# y = mx + c where x is an language statement \n",
        "\n",
        "# MANIPULATED standards -> CONVINIENCE \n",
        "\n",
        "# SPECIAL SYMBOLS INSIDE OUR TEXT so that code could be used to manipulate them \n",
        "# WE AS DEVELOPERS OR NLP Engineers manipulate text and add these symbols\n",
        "# <PAD>   0   -> Neural networks are HARDCODED-> input-size cannot be change once NN is built!\n",
        "# padding helps chopping/padding different length sentences into same size\n",
        "# I am good;   Bye.   ->    [I, am, good] ; [Bye, <PAD>, <PAD>]\n",
        "# y = mx+c ;   y = w1*I + w2*am + w3*good + bias ;   y = w1*bye + w2 * <PAD> + w3 * <PAD>\n",
        "# y = w1*100 + w2*22 + w3*55 + 102;   y = w1*42 + w2* 0 + w3* 0  \n",
        "# <START> 1   -> indicates beginning of a sentence or phrase \n",
        "# example; if text was Hello World! -> 42 50 \n",
        "# Processed statement: <START> Hello World! -> 1 42 50\n",
        "# this way when multiple sentences were present, we could mark beginning of each sentence/phrase\n",
        "\n",
        "# <PAD> 0          -> 0, any weight multiplied to <PAD> will become 0! \n",
        "# <START>  1       -> Indicates beginning of sentence/phrase \n",
        "# <UNK>  2         -> your encountered a word outside dictionary \n",
        "# <UNUSED> 3       -> SPECIAL symbol that you could give special meaning to \n",
        "\n",
        "\n"
      ],
      "execution_count": 0,
      "outputs": []
    },
    {
      "cell_type": "code",
      "metadata": {
        "id": "rOl3RkrXSQiL",
        "colab_type": "code",
        "colab": {}
      },
      "source": [
        ""
      ],
      "execution_count": 0,
      "outputs": []
    }
  ]
}