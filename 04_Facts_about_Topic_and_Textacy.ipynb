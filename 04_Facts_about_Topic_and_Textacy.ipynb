{
  "nbformat": 4,
  "nbformat_minor": 0,
  "metadata": {
    "colab": {
      "name": "04 Facts about Topic and Textacy.ipynb",
      "provenance": [],
      "collapsed_sections": [],
      "authorship_tag": "ABX9TyNXu0jBAwwYVvj3BICC8VPi",
      "include_colab_link": true
    },
    "kernelspec": {
      "name": "python3",
      "display_name": "Python 3"
    }
  },
  "cells": [
    {
      "cell_type": "markdown",
      "metadata": {
        "id": "view-in-github",
        "colab_type": "text"
      },
      "source": [
        "<a href=\"https://colab.research.google.com/github/a-forty-two/cylons/blob/master/04_Facts_about_Topic_and_Textacy.ipynb\" target=\"_parent\"><img src=\"https://colab.research.google.com/assets/colab-badge.svg\" alt=\"Open In Colab\"/></a>"
      ]
    },
    {
      "cell_type": "code",
      "metadata": {
        "id": "t7d3pZhShlEa",
        "colab_type": "code",
        "outputId": "9c1d92c2-cd69-4bd5-df30-794136bf711a",
        "colab": {
          "base_uri": "https://localhost:8080/",
          "height": 894
        }
      },
      "source": [
        "# TEXTACY -> Adds a lot of functionality that we use in NLP\n",
        "# day to day\n",
        "!pip install textacy\n"
      ],
      "execution_count": 0,
      "outputs": [
        {
          "output_type": "stream",
          "text": [
            "Collecting textacy\n",
            "\u001b[?25l  Downloading https://files.pythonhosted.org/packages/f3/fe/0b57ac1a202de9819e71e8373980d586e824f515ad2f4266e4e98627f8b8/textacy-0.10.0-py3-none-any.whl (206kB)\n",
            "\r\u001b[K     |█▋                              | 10kB 19.9MB/s eta 0:00:01\r\u001b[K     |███▏                            | 20kB 1.8MB/s eta 0:00:01\r\u001b[K     |████▊                           | 30kB 2.6MB/s eta 0:00:01\r\u001b[K     |██████▍                         | 40kB 1.7MB/s eta 0:00:01\r\u001b[K     |████████                        | 51kB 2.1MB/s eta 0:00:01\r\u001b[K     |█████████▌                      | 61kB 2.5MB/s eta 0:00:01\r\u001b[K     |███████████                     | 71kB 2.9MB/s eta 0:00:01\r\u001b[K     |████████████▊                   | 81kB 2.2MB/s eta 0:00:01\r\u001b[K     |██████████████▎                 | 92kB 2.5MB/s eta 0:00:01\r\u001b[K     |███████████████▉                | 102kB 2.7MB/s eta 0:00:01\r\u001b[K     |█████████████████▍              | 112kB 2.7MB/s eta 0:00:01\r\u001b[K     |███████████████████             | 122kB 2.7MB/s eta 0:00:01\r\u001b[K     |████████████████████▋           | 133kB 2.7MB/s eta 0:00:01\r\u001b[K     |██████████████████████▏         | 143kB 2.7MB/s eta 0:00:01\r\u001b[K     |███████████████████████▊        | 153kB 2.7MB/s eta 0:00:01\r\u001b[K     |█████████████████████████▍      | 163kB 2.7MB/s eta 0:00:01\r\u001b[K     |███████████████████████████     | 174kB 2.7MB/s eta 0:00:01\r\u001b[K     |████████████████████████████▌   | 184kB 2.7MB/s eta 0:00:01\r\u001b[K     |██████████████████████████████▏ | 194kB 2.7MB/s eta 0:00:01\r\u001b[K     |███████████████████████████████▊| 204kB 2.7MB/s eta 0:00:01\r\u001b[K     |████████████████████████████████| 215kB 2.7MB/s \n",
            "\u001b[?25hRequirement already satisfied: spacy>=2.2.0 in /usr/local/lib/python3.6/dist-packages (from textacy) (2.2.4)\n",
            "Requirement already satisfied: networkx>=2.0 in /usr/local/lib/python3.6/dist-packages (from textacy) (2.4)\n",
            "Requirement already satisfied: scipy>=0.17.0 in /usr/local/lib/python3.6/dist-packages (from textacy) (1.4.1)\n",
            "Requirement already satisfied: scikit-learn>=0.19.0 in /usr/local/lib/python3.6/dist-packages (from textacy) (0.22.2.post1)\n",
            "Requirement already satisfied: cachetools>=2.0.1 in /usr/local/lib/python3.6/dist-packages (from textacy) (3.1.1)\n",
            "Requirement already satisfied: requests>=2.10.0 in /usr/local/lib/python3.6/dist-packages (from textacy) (2.21.0)\n",
            "Collecting cytoolz>=0.8.0\n",
            "\u001b[?25l  Downloading https://files.pythonhosted.org/packages/62/b1/7f16703fe4a497879b1b457adf1e472fad2d4f030477698b16d2febf38bb/cytoolz-0.10.1.tar.gz (475kB)\n",
            "\u001b[K     |████████████████████████████████| 481kB 47.8MB/s \n",
            "\u001b[?25hRequirement already satisfied: joblib>=0.13.0 in /usr/local/lib/python3.6/dist-packages (from textacy) (0.14.1)\n",
            "Requirement already satisfied: numpy>=1.17.0 in /usr/local/lib/python3.6/dist-packages (from textacy) (1.18.2)\n",
            "Requirement already satisfied: srsly>=0.0.5 in /usr/local/lib/python3.6/dist-packages (from textacy) (1.0.2)\n",
            "Collecting jellyfish>=0.7.0\n",
            "\u001b[?25l  Downloading https://files.pythonhosted.org/packages/3f/80/bcacc7affb47be7279d7d35225e1a932416ed051b315a7f9df20acf04cbe/jellyfish-0.7.2.tar.gz (133kB)\n",
            "\u001b[K     |████████████████████████████████| 143kB 46.5MB/s \n",
            "\u001b[?25hRequirement already satisfied: pyemd>=0.5.0 in /usr/local/lib/python3.6/dist-packages (from textacy) (0.5.1)\n",
            "Requirement already satisfied: tqdm>=4.19.6 in /usr/local/lib/python3.6/dist-packages (from textacy) (4.38.0)\n",
            "Collecting pyphen>=0.9.4\n",
            "\u001b[?25l  Downloading https://files.pythonhosted.org/packages/15/82/08a3629dce8d1f3d91db843bb36d4d7db6b6269d5067259613a0d5c8a9db/Pyphen-0.9.5-py2.py3-none-any.whl (3.0MB)\n",
            "\u001b[K     |████████████████████████████████| 3.0MB 40.8MB/s \n",
            "\u001b[?25hRequirement already satisfied: thinc==7.4.0 in /usr/local/lib/python3.6/dist-packages (from spacy>=2.2.0->textacy) (7.4.0)\n",
            "Requirement already satisfied: murmurhash<1.1.0,>=0.28.0 in /usr/local/lib/python3.6/dist-packages (from spacy>=2.2.0->textacy) (1.0.2)\n",
            "Requirement already satisfied: catalogue<1.1.0,>=0.0.7 in /usr/local/lib/python3.6/dist-packages (from spacy>=2.2.0->textacy) (1.0.0)\n",
            "Requirement already satisfied: preshed<3.1.0,>=3.0.2 in /usr/local/lib/python3.6/dist-packages (from spacy>=2.2.0->textacy) (3.0.2)\n",
            "Requirement already satisfied: wasabi<1.1.0,>=0.4.0 in /usr/local/lib/python3.6/dist-packages (from spacy>=2.2.0->textacy) (0.6.0)\n",
            "Requirement already satisfied: blis<0.5.0,>=0.4.0 in /usr/local/lib/python3.6/dist-packages (from spacy>=2.2.0->textacy) (0.4.1)\n",
            "Requirement already satisfied: setuptools in /usr/local/lib/python3.6/dist-packages (from spacy>=2.2.0->textacy) (46.1.3)\n",
            "Requirement already satisfied: plac<1.2.0,>=0.9.6 in /usr/local/lib/python3.6/dist-packages (from spacy>=2.2.0->textacy) (1.1.3)\n",
            "Requirement already satisfied: cymem<2.1.0,>=2.0.2 in /usr/local/lib/python3.6/dist-packages (from spacy>=2.2.0->textacy) (2.0.3)\n",
            "Requirement already satisfied: decorator>=4.3.0 in /usr/local/lib/python3.6/dist-packages (from networkx>=2.0->textacy) (4.4.2)\n",
            "Requirement already satisfied: certifi>=2017.4.17 in /usr/local/lib/python3.6/dist-packages (from requests>=2.10.0->textacy) (2020.4.5.1)\n",
            "Requirement already satisfied: urllib3<1.25,>=1.21.1 in /usr/local/lib/python3.6/dist-packages (from requests>=2.10.0->textacy) (1.24.3)\n",
            "Requirement already satisfied: chardet<3.1.0,>=3.0.2 in /usr/local/lib/python3.6/dist-packages (from requests>=2.10.0->textacy) (3.0.4)\n",
            "Requirement already satisfied: idna<2.9,>=2.5 in /usr/local/lib/python3.6/dist-packages (from requests>=2.10.0->textacy) (2.8)\n",
            "Requirement already satisfied: toolz>=0.8.0 in /usr/local/lib/python3.6/dist-packages (from cytoolz>=0.8.0->textacy) (0.10.0)\n",
            "Requirement already satisfied: importlib-metadata>=0.20; python_version < \"3.8\" in /usr/local/lib/python3.6/dist-packages (from catalogue<1.1.0,>=0.0.7->spacy>=2.2.0->textacy) (1.6.0)\n",
            "Requirement already satisfied: zipp>=0.5 in /usr/local/lib/python3.6/dist-packages (from importlib-metadata>=0.20; python_version < \"3.8\"->catalogue<1.1.0,>=0.0.7->spacy>=2.2.0->textacy) (3.1.0)\n",
            "Building wheels for collected packages: cytoolz, jellyfish\n",
            "  Building wheel for cytoolz (setup.py) ... \u001b[?25l\u001b[?25hdone\n",
            "  Created wheel for cytoolz: filename=cytoolz-0.10.1-cp36-cp36m-linux_x86_64.whl size=1257055 sha256=4bf5430c31e42f5a7cd4419e9f4eb69f2d9d159f1dfb30b80d7c191927ff6711\n",
            "  Stored in directory: /root/.cache/pip/wheels/64/2a/18/d962b614e055577e7d9a3e4813e0742f822ca9c8800cc3783a\n",
            "  Building wheel for jellyfish (setup.py) ... \u001b[?25l\u001b[?25hdone\n",
            "  Created wheel for jellyfish: filename=jellyfish-0.7.2-cp36-cp36m-linux_x86_64.whl size=72999 sha256=b60dcbda02d6300654ee3cdc2a8a50bd58aba8bc19db11a75b8738b6c27d36b5\n",
            "  Stored in directory: /root/.cache/pip/wheels/e8/fe/99/d8fa8f2ef7b82a625b0b77a84d319b0b50693659823c4effb4\n",
            "Successfully built cytoolz jellyfish\n",
            "Installing collected packages: cytoolz, jellyfish, pyphen, textacy\n",
            "Successfully installed cytoolz-0.10.1 jellyfish-0.7.2 pyphen-0.9.5 textacy-0.10.0\n"
          ],
          "name": "stdout"
        }
      ]
    },
    {
      "cell_type": "code",
      "metadata": {
        "id": "ohel2154i77A",
        "colab_type": "code",
        "outputId": "dfde5921-e2d2-4990-a137-630b698b6494",
        "colab": {
          "base_uri": "https://localhost:8080/",
          "height": 586
        }
      },
      "source": [
        "!python -m spacy download en_core_web_lg"
      ],
      "execution_count": 0,
      "outputs": [
        {
          "output_type": "stream",
          "text": [
            "Collecting en_core_web_lg==2.2.5\n",
            "\u001b[?25l  Downloading https://github.com/explosion/spacy-models/releases/download/en_core_web_lg-2.2.5/en_core_web_lg-2.2.5.tar.gz (827.9MB)\n",
            "\u001b[K     |████████████████████████████████| 827.9MB 1.2MB/s \n",
            "\u001b[?25hRequirement already satisfied: spacy>=2.2.2 in /usr/local/lib/python3.6/dist-packages (from en_core_web_lg==2.2.5) (2.2.4)\n",
            "Requirement already satisfied: thinc==7.4.0 in /usr/local/lib/python3.6/dist-packages (from spacy>=2.2.2->en_core_web_lg==2.2.5) (7.4.0)\n",
            "Requirement already satisfied: wasabi<1.1.0,>=0.4.0 in /usr/local/lib/python3.6/dist-packages (from spacy>=2.2.2->en_core_web_lg==2.2.5) (0.6.0)\n",
            "Requirement already satisfied: srsly<1.1.0,>=1.0.2 in /usr/local/lib/python3.6/dist-packages (from spacy>=2.2.2->en_core_web_lg==2.2.5) (1.0.2)\n",
            "Requirement already satisfied: numpy>=1.15.0 in /usr/local/lib/python3.6/dist-packages (from spacy>=2.2.2->en_core_web_lg==2.2.5) (1.18.2)\n",
            "Requirement already satisfied: plac<1.2.0,>=0.9.6 in /usr/local/lib/python3.6/dist-packages (from spacy>=2.2.2->en_core_web_lg==2.2.5) (1.1.3)\n",
            "Requirement already satisfied: requests<3.0.0,>=2.13.0 in /usr/local/lib/python3.6/dist-packages (from spacy>=2.2.2->en_core_web_lg==2.2.5) (2.21.0)\n",
            "Requirement already satisfied: catalogue<1.1.0,>=0.0.7 in /usr/local/lib/python3.6/dist-packages (from spacy>=2.2.2->en_core_web_lg==2.2.5) (1.0.0)\n",
            "Requirement already satisfied: blis<0.5.0,>=0.4.0 in /usr/local/lib/python3.6/dist-packages (from spacy>=2.2.2->en_core_web_lg==2.2.5) (0.4.1)\n",
            "Requirement already satisfied: cymem<2.1.0,>=2.0.2 in /usr/local/lib/python3.6/dist-packages (from spacy>=2.2.2->en_core_web_lg==2.2.5) (2.0.3)\n",
            "Requirement already satisfied: tqdm<5.0.0,>=4.38.0 in /usr/local/lib/python3.6/dist-packages (from spacy>=2.2.2->en_core_web_lg==2.2.5) (4.38.0)\n",
            "Requirement already satisfied: murmurhash<1.1.0,>=0.28.0 in /usr/local/lib/python3.6/dist-packages (from spacy>=2.2.2->en_core_web_lg==2.2.5) (1.0.2)\n",
            "Requirement already satisfied: setuptools in /usr/local/lib/python3.6/dist-packages (from spacy>=2.2.2->en_core_web_lg==2.2.5) (46.1.3)\n",
            "Requirement already satisfied: preshed<3.1.0,>=3.0.2 in /usr/local/lib/python3.6/dist-packages (from spacy>=2.2.2->en_core_web_lg==2.2.5) (3.0.2)\n",
            "Requirement already satisfied: idna<2.9,>=2.5 in /usr/local/lib/python3.6/dist-packages (from requests<3.0.0,>=2.13.0->spacy>=2.2.2->en_core_web_lg==2.2.5) (2.8)\n",
            "Requirement already satisfied: certifi>=2017.4.17 in /usr/local/lib/python3.6/dist-packages (from requests<3.0.0,>=2.13.0->spacy>=2.2.2->en_core_web_lg==2.2.5) (2020.4.5.1)\n",
            "Requirement already satisfied: urllib3<1.25,>=1.21.1 in /usr/local/lib/python3.6/dist-packages (from requests<3.0.0,>=2.13.0->spacy>=2.2.2->en_core_web_lg==2.2.5) (1.24.3)\n",
            "Requirement already satisfied: chardet<3.1.0,>=3.0.2 in /usr/local/lib/python3.6/dist-packages (from requests<3.0.0,>=2.13.0->spacy>=2.2.2->en_core_web_lg==2.2.5) (3.0.4)\n",
            "Requirement already satisfied: importlib-metadata>=0.20; python_version < \"3.8\" in /usr/local/lib/python3.6/dist-packages (from catalogue<1.1.0,>=0.0.7->spacy>=2.2.2->en_core_web_lg==2.2.5) (1.6.0)\n",
            "Requirement already satisfied: zipp>=0.5 in /usr/local/lib/python3.6/dist-packages (from importlib-metadata>=0.20; python_version < \"3.8\"->catalogue<1.1.0,>=0.0.7->spacy>=2.2.2->en_core_web_lg==2.2.5) (3.1.0)\n",
            "Building wheels for collected packages: en-core-web-lg\n",
            "  Building wheel for en-core-web-lg (setup.py) ... \u001b[?25l\u001b[?25hdone\n",
            "  Created wheel for en-core-web-lg: filename=en_core_web_lg-2.2.5-cp36-none-any.whl size=829180944 sha256=58adf4f4c0c0dd818c9fb8d432a7db21d38ede9b64c098157b4d9a8b3f7b3e62\n",
            "  Stored in directory: /tmp/pip-ephem-wheel-cache-nvt0xj18/wheels/2a/c1/a6/fc7a877b1efca9bc6a089d6f506f16d3868408f9ff89f8dbfc\n",
            "Successfully built en-core-web-lg\n",
            "Installing collected packages: en-core-web-lg\n",
            "Successfully installed en-core-web-lg-2.2.5\n",
            "\u001b[38;5;2m✔ Download and installation successful\u001b[0m\n",
            "You can now load the model via spacy.load('en_core_web_lg')\n"
          ],
          "name": "stdout"
        }
      ]
    },
    {
      "cell_type": "code",
      "metadata": {
        "id": "g1s9-YGMiNe2",
        "colab_type": "code",
        "outputId": "28a70ae3-4d56-46f3-8efd-1d8641c397a3",
        "colab": {
          "base_uri": "https://localhost:8080/",
          "height": 34
        }
      },
      "source": [
        "import spacy\n",
        "import textacy\n",
        "dictionary = spacy.load('en_core_web_lg')\n",
        "f = open('text.txt','rt')\n",
        "data = f.read()\n",
        "doc = dictionary(data)\n",
        "len(doc)"
      ],
      "execution_count": 3,
      "outputs": [
        {
          "output_type": "execute_result",
          "data": {
            "text/plain": [
              "6268"
            ]
          },
          "metadata": {
            "tags": []
          },
          "execution_count": 3
        }
      ]
    },
    {
      "cell_type": "code",
      "metadata": {
        "id": "hOXV3T1hi0tD",
        "colab_type": "code",
        "colab": {
          "base_uri": "https://localhost:8080/",
          "height": 157
        },
        "outputId": "99f68fca-73a1-4e05-b4d5-db19fb8e059c"
      },
      "source": [
        "statements = textacy.extract.semistructured_statements(doc, 'shrimp')\n",
        "# a LIST of (subject, verb, fact)\n",
        "# SUBJECT -> search term \n",
        "print('This is all we know about Mantis Shrimp!')\n",
        "for statement in statements:\n",
        "  subject, verb, fact = statement \n",
        "  print(f\"-  {fact}\")\n"
      ],
      "execution_count": 12,
      "outputs": [
        {
          "output_type": "stream",
          "text": [
            "This is all we know about Mantis Shrimp!\n",
            "-  in a class of its own\n",
            "-  n’t shrimp at all\n",
            "-  one of the only creatures capable of seeing polarized light\n",
            "-  one of the most interesting crustaceans found in the ocean.  \n",
            "-  only about four inches long but pound for pound are one of the strongest animals in the world.  \n",
            "-  my favorite\n"
          ],
          "name": "stdout"
        }
      ]
    },
    {
      "cell_type": "code",
      "metadata": {
        "id": "ZB6DrRiZlVbH",
        "colab_type": "code",
        "colab": {
          "base_uri": "https://localhost:8080/",
          "height": 1000
        },
        "outputId": "65238bc7-6e10-4ebf-e33d-c930391722cb"
      },
      "source": [
        "# COMPLEX words which forn NOUN \n",
        "chunkOfNouns = textacy.extract.noun_chunks(doc, min_freq=3) # no. of times noun chunks occur in dataset\n",
        "# THIS IS A LIST OF TOKENS, so we need to convert into string \n",
        "# before using/printing \n",
        "chunkOfNouns = map(str, chunkOfNouns)  # TYPE CASTING! str(chunkOfNoun[:])\n",
        "chunkOfNouns = map(str.lower, chunkOfNouns)\n",
        "for chunk in chunkOfNouns:\n",
        "  if len(chunk.split(' ')) > 1: # how long should a noun chunk be\n",
        "    print(chunk)"
      ],
      "execution_count": 15,
      "outputs": [
        {
          "output_type": "stream",
          "text": [
            "Mantis shrimps\n",
            "Mantis shrimps\n",
            "other species\n",
            "mantis shrimps\n",
            "mantis shrimps\n",
            "Mantis shrimp\n",
            "mantis shrimp\n",
            "Mantis shrimp\n",
            "mantis shrimp\n",
            "Mantis shrimp\n",
            "mantis shrimp\n",
            "mantis shrimp\n",
            "mantis shrimp\n",
            "spectral tuning\n",
            "spectral tuning\n",
            "spectral tuning\n",
            "Mantis shrimp\n",
            "Mantis shrimp\n",
            "mantis shrimp\n",
            "mantis shrimp\n",
            "upper and lower hemispheres\n",
            "Mantis shrimp\n",
            "deep ultraviolet\n",
            "mantis shrimp\n",
            "deep ultraviolet\n",
            "deep ultraviolet\n",
            "colour filters\n",
            "colour filters\n",
            "mantis shrimp\n",
            "upper and lower hemispheres\n",
            "colour filters\n",
            "polarised light\n",
            "mantis shrimp\n",
            "mantis shrimps\n",
            "upper and lower hemispheres\n",
            "mantis shrimps\n",
            "different types\n",
            "mantis shrimps\n",
            "mantis shrimp\n",
            "different types\n",
            "mantis shrimps\n",
            "mantis shrimp\n",
            "polarised light\n",
            "polarised light\n",
            "mantis shrimp\n",
            "Mantis shrimps\n",
            "mantis shrimps\n",
            "other species\n",
            "mantis shrimp\n",
            "Mantis shrimp\n",
            "Mantis shrimps\n",
            "mantis shrimp\n",
            "mantis shrimp\n",
            "mantis shrimp\n",
            "mantis shrimp\n",
            "mantis shrimp\n",
            "Mantis Shrimp\n",
            "mantis shrimp\n",
            "mantis shrimp\n",
            "peacock mantis shrimp\n",
            "Mantis shrimp\n",
            "Peacock mantis shrimp\n",
            "different types\n",
            "mantis shrimp\n",
            "mantis shrimp\n",
            "mantis shrimp\n",
            "mantis shrimp\n",
            "mantis shrimp\n",
            "other species\n",
            "mantis shrimp\n",
            "mantis shrimp\n",
            "mantis shrimp\n",
            "mantis shrimp\n",
            "mantis shrimp\n",
            "mantis shrimp\n",
            "Mantis shrimp\n",
            "mantis shrimp\n",
            "mantis shrimp\n",
            "mantis shrimp\n",
            "mantis shrimp\n",
            "mantis shrimp\n",
            "mantis shrimp\n",
            "mantis shrimp\n",
            "mantis shrimp\n",
            "mantis shrimp\n",
            "Mantis Shrimp\n",
            "Mantis Shrimp\n",
            "mantis shrimp\n",
            "Mantis Shrimp\n",
            "mantis shrimp\n",
            "peacock mantis shrimp\n",
            "Mantis shrimp\n"
          ],
          "name": "stdout"
        }
      ]
    },
    {
      "cell_type": "code",
      "metadata": {
        "id": "zRMyKXtan089",
        "colab_type": "code",
        "colab": {
          "base_uri": "https://localhost:8080/",
          "height": 71
        },
        "outputId": "90ae81d5-b999-4df4-8fdb-3fbc27bd640e"
      },
      "source": [
        "text = \"Mantis shrimp live in burrows. Around 451 species of mantis shrimps have currently been discovered!\"\n",
        "import time\n",
        "from textacy import preprocessing \n",
        "startime = time.time()\n",
        "x = preprocessing.normalize_whitespace(preprocessing.remove_punctuation(data))\n",
        "# normalize ws -> \"    \" -> \" \"\n",
        "endtime = time.time()\n",
        "timetaken = endtime-startime \n",
        "print(\"Time= \" + str(timetaken))\n",
        "print(x[:100])"
      ],
      "execution_count": 20,
      "outputs": [
        {
          "output_type": "stream",
          "text": [
            "Time= 0.00823521614074707\n",
            "Mantis shrimps or stomatopods are marine crustaceans of the order Stomatopoda Some species have spec\n"
          ],
          "name": "stdout"
        }
      ]
    },
    {
      "cell_type": "code",
      "metadata": {
        "id": "RALGlYLzpaeO",
        "colab_type": "code",
        "colab": {
          "base_uri": "https://localhost:8080/",
          "height": 191
        },
        "outputId": "1f0876c8-a1a1-4038-890a-5847655ac9ff"
      },
      "source": [
        "doc2 = textacy.make_spacy_doc(data)\n",
        "# Interop b/w spacy and textacy "
      ],
      "execution_count": 21,
      "outputs": [
        {
          "output_type": "stream",
          "text": [
            "100%|██████████| 66.7M/66.7M [00:01<00:00, 46.0MB/s]\n",
            "/usr/local/lib/python3.6/dist-packages/sklearn/base.py:318: UserWarning: Trying to unpickle estimator HashingVectorizer from version 0.22 when using version 0.22.2.post1. This might lead to breaking code or invalid results. Use at your own risk.\n",
            "  UserWarning)\n",
            "/usr/local/lib/python3.6/dist-packages/sklearn/base.py:318: UserWarning: Trying to unpickle estimator LabelBinarizer from version 0.22 when using version 0.22.2.post1. This might lead to breaking code or invalid results. Use at your own risk.\n",
            "  UserWarning)\n",
            "/usr/local/lib/python3.6/dist-packages/sklearn/base.py:318: UserWarning: Trying to unpickle estimator MLPClassifier from version 0.22 when using version 0.22.2.post1. This might lead to breaking code or invalid results. Use at your own risk.\n",
            "  UserWarning)\n",
            "/usr/local/lib/python3.6/dist-packages/sklearn/base.py:318: UserWarning: Trying to unpickle estimator Pipeline from version 0.22 when using version 0.22.2.post1. This might lead to breaking code or invalid results. Use at your own risk.\n",
            "  UserWarning)\n"
          ],
          "name": "stderr"
        }
      ]
    },
    {
      "cell_type": "code",
      "metadata": {
        "id": "gHSbqsmTr5LB",
        "colab_type": "code",
        "colab": {}
      },
      "source": [
        ""
      ],
      "execution_count": 0,
      "outputs": []
    },
    {
      "cell_type": "code",
      "metadata": {
        "id": "2JSC_RkYq_ZQ",
        "colab_type": "code",
        "colab": {}
      },
      "source": [
        "# Please be back by 4:50! "
      ],
      "execution_count": 0,
      "outputs": []
    }
  ]
}