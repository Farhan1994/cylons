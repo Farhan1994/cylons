{
  "nbformat": 4,
  "nbformat_minor": 0,
  "metadata": {
    "colab": {
      "name": "06 TensorFlow.ipynb",
      "provenance": [],
      "collapsed_sections": [],
      "authorship_tag": "ABX9TyMt/8eJp1X7p+Mwhek5hqRF",
      "include_colab_link": true
    },
    "kernelspec": {
      "name": "python3",
      "display_name": "Python 3"
    }
  },
  "cells": [
    {
      "cell_type": "markdown",
      "metadata": {
        "id": "view-in-github",
        "colab_type": "text"
      },
      "source": [
        "<a href=\"https://colab.research.google.com/github/a-forty-two/cylons/blob/master/06_TensorFlow.ipynb\" target=\"_parent\"><img src=\"https://colab.research.google.com/assets/colab-badge.svg\" alt=\"Open In Colab\"/></a>"
      ]
    },
    {
      "cell_type": "code",
      "metadata": {
        "id": "7jM7pP7Pu44l",
        "colab_type": "code",
        "colab": {}
      },
      "source": [
        "# What's a node? https://www.electronics-tutorials.ws/dccircuits/kirchhoffs-current-law.html\n",
        "\n",
        "# TENSORFLOW can draw both Directed, Non-Directed, and both CYclic and Acylcic graphs!\n",
        "# it's a math library not a NN library! We are only using TF to get our obectives! \n",
        "\n",
        "# There are dedicated ML libs for NN /DL -> Theano, PyTorch "
      ],
      "execution_count": 0,
      "outputs": []
    },
    {
      "cell_type": "code",
      "metadata": {
        "id": "w3XOTtRlKDFZ",
        "colab_type": "code",
        "colab": {}
      },
      "source": [
        "import tensorflow as tf\n",
        "# THINK of this as R,G,B pixels representing an image\n",
        "inputs = [[200,0,1],[215,70,4],[0,0,200],[5,40,230]] \n",
        "# this was a problem statement to detect if a PIXEL is RED \n",
        "outputs = [ [1], [1], [0], [0] ]\n",
        "# red, red, no-red, no-red \n",
        "# convert inputs into tensors \n",
        "trainingInputs = tf.convert_to_tensor(value=inputs, dtype=tf.int8) # 8 bits represent a numbers!\n"
      ],
      "execution_count": 0,
      "outputs": []
    },
    {
      "cell_type": "code",
      "metadata": {
        "id": "Gs-OvHEFLSYN",
        "colab_type": "code",
        "colab": {}
      },
      "source": [
        "# ALL tf code only RUNS inside TENSORFLOW SESSION \n",
        "\n",
        "# LAZY EVALUATION\n",
        "# BIG Data (Apache Spark, Data Bricks) and GRAPH libraries (TENSORFLOW) building ACYCLIC GRAPHS\n",
        "# WHICH SHOULD ONLY be executed only all the info is known\n",
        "\n",
        "# a = 1, b=2, c=a+b, print(c)\n",
        "# normal programming language                           Tensorflow/ApacheSpark/DAG\n",
        "\n",
        "# a=1, what is value of a? Lang = 1!                 a=1, what is value of a? TF = ok!\n",
        "# b=2, what is value of b? Lang = 2!                 b=2, what is value of b? TF = ok!\n",
        "# c = a+b, what is value of C? Lang = 3!             c = a+b, what is value of C? TF =ok! \n",
        "# print(c), printed, Language-> 3                     print(c) -> Now TF needs to know the value\n",
        "#                                                     DAG will be built and executed \n",
        "\n"
      ],
      "execution_count": 0,
      "outputs": []
    }
  ]
}