{
  "nbformat": 4,
  "nbformat_minor": 0,
  "metadata": {
    "colab": {
      "name": "06 TensorFlow.ipynb",
      "provenance": [],
      "collapsed_sections": [],
      "authorship_tag": "ABX9TyOfkrNEDXh6LcCNUwetWuvw",
      "include_colab_link": true
    },
    "kernelspec": {
      "name": "python3",
      "display_name": "Python 3"
    }
  },
  "cells": [
    {
      "cell_type": "markdown",
      "metadata": {
        "id": "view-in-github",
        "colab_type": "text"
      },
      "source": [
        "<a href=\"https://colab.research.google.com/github/a-forty-two/cylons/blob/master/06_TensorFlow.ipynb\" target=\"_parent\"><img src=\"https://colab.research.google.com/assets/colab-badge.svg\" alt=\"Open In Colab\"/></a>"
      ]
    },
    {
      "cell_type": "code",
      "metadata": {
        "id": "7jM7pP7Pu44l",
        "colab_type": "code",
        "colab": {
          "base_uri": "https://localhost:8080/",
          "height": 35
        },
        "outputId": "ab784280-1abd-478f-9060-4e53476caffd"
      },
      "source": [
        "# What's a node? https://www.electronics-tutorials.ws/dccircuits/kirchhoffs-current-law.html\n",
        "\n",
        "# TENSORFLOW can draw both Directed, Non-Directed, and both CYclic and Acylcic graphs!\n",
        "# it's a math library not a NN library! We are only using TF to get our obectives! \n",
        "\n",
        "# There are dedicated ML libs for NN /DL -> Theano, PyTorch \n",
        "tf.__version__"
      ],
      "execution_count": 8,
      "outputs": [
        {
          "output_type": "execute_result",
          "data": {
            "text/plain": [
              "'2.2.0-rc3'"
            ]
          },
          "metadata": {
            "tags": []
          },
          "execution_count": 8
        }
      ]
    },
    {
      "cell_type": "code",
      "metadata": {
        "id": "w3XOTtRlKDFZ",
        "colab_type": "code",
        "colab": {
          "base_uri": "https://localhost:8080/",
          "height": 69
        },
        "outputId": "d1e9c2f6-2648-4147-beec-de80513e5db1"
      },
      "source": [
        "%tensorflow_version 1.x\n",
        "import tensorflow as tf\n",
        "print(tf.__version__)\n",
        "# THINK of this as R,G,B pixels representing an image\n",
        "inputs = [[200,0,1],[215,70,4],[0,0,200],[5,40,230]] \n",
        "# this was a problem statement to detect if a PIXEL is RED \n",
        "outputs = [ [1], [1], [0], [0] ]\n",
        "# red, red, no-red, no-red \n",
        "# convert inputs into tensors \n",
        "trainingInputs = tf.convert_to_tensor(value=inputs, dtype=tf.int8) # 8 bits represent a number!\n",
        "trainingInputs"
      ],
      "execution_count": 1,
      "outputs": [
        {
          "output_type": "stream",
          "text": [
            "TensorFlow 1.x selected.\n",
            "1.15.2\n"
          ],
          "name": "stdout"
        },
        {
          "output_type": "execute_result",
          "data": {
            "text/plain": [
              "<tf.Tensor 'Const:0' shape=(4, 3) dtype=int8>"
            ]
          },
          "metadata": {
            "tags": []
          },
          "execution_count": 1
        }
      ]
    },
    {
      "cell_type": "code",
      "metadata": {
        "id": "Ai6qiJRwNoRL",
        "colab_type": "code",
        "colab": {
          "base_uri": "https://localhost:8080/",
          "height": 87
        },
        "outputId": "bda59e68-8a87-4a94-aac8-786c86b6e477"
      },
      "source": [
        "# EVERY TENSORFLOW execution is supposed to RUN inside a TENSORFLOW SESSION only\n",
        "# JUST LIKE DB session -> OPEN, OPERATE, CLOSE \n",
        "sessions = tf.Session()\n",
        "x = sessions.run(fetches=trainingInputs)\n",
        "print(x)\n",
        "sessions.close()\n",
        "\n",
        "# please resume by 11:55 "
      ],
      "execution_count": 2,
      "outputs": [
        {
          "output_type": "stream",
          "text": [
            "[[-56   0   1]\n",
            " [-41  70   4]\n",
            " [  0   0 -56]\n",
            " [  5  40 -26]]\n"
          ],
          "name": "stdout"
        }
      ]
    },
    {
      "cell_type": "code",
      "metadata": {
        "id": "BPwgboR_WjJF",
        "colab_type": "code",
        "colab": {}
      },
      "source": [
        "# In order to BUILD DAGs, TF provides with \n",
        "# 1) CONSTANTS -> CONSTANT throughout the lifecycle\n",
        "# 2) PLACEHOLDERS -> ARE EMPTY RESERVED SPACES FOR INPUTS and OUTPUTS. Placeholders' value\n",
        "#        doesn't change in-between execution! \n",
        "# 3) VARIABLES -> VALUES which keep changing inside execution-> LEARNING -> WEIGHTS and BIASES "
      ],
      "execution_count": 0,
      "outputs": []
    },
    {
      "cell_type": "code",
      "metadata": {
        "id": "mGVc47rEXLsK",
        "colab_type": "code",
        "colab": {}
      },
      "source": [
        "import tensorflow\n",
        "trainingInputs = tf.placeholder(shape=[None, 3], dtype=tf.float32)\n",
        "trainingOutputs = tf.placeholder(shape=[None, 1], dtype=tf.float32)\n",
        "weights = tf.Variable(initial_value=[[0.3],[0.1],[0.7]], dtype=tf.float32) # RANDOM, no logic\n",
        "# y = x1w1 + x2w2 + x3w3 + bias \n",
        "bias = tf.Variable(initial_value=[[0.05]], dtype=tf.float32)\n",
        "# these values have been RANDOMLY initialized! \n"
      ],
      "execution_count": 0,
      "outputs": []
    },
    {
      "cell_type": "code",
      "metadata": {
        "id": "6f-YDIV0YNgV",
        "colab_type": "code",
        "colab": {
          "base_uri": "https://localhost:8080/",
          "height": 35
        },
        "outputId": "f0bcab5e-b675-4f6f-fc8d-88fc4065e18e"
      },
      "source": [
        "# FIRST build the graph nodes \n",
        "y = tf.matmul(trainingInputs, weights) + bias # y=mx + c\n",
        "predictions = tf.nn.sigmoid(y)  # SIGMOID -> takes numbers, and converts them into a PROB func\n",
        "# as a result output is between 0 and 1 \n",
        "loss = tf.reduce_sum(trainingOutputs-predictions) # MAE \n",
        "HP_lr = 0.05\n",
        "optimizer = tf.train.GradientDescentOptimizer(learning_rate=HP_lr).minimize(loss)\n",
        "# optimizer reduces the LOSS! \n",
        "loss\n",
        "\n",
        "# THIS IS A STANDALONE NN layer -> THIS IS NOT A NETWORK\n",
        "# SINGLE LAYERs will be exactly same as MACHINE LEARNING with GT! \n",
        "# DEEP LEARNING means at least 3 such LAYERS! \n",
        "\n",
        "# THIS IS JUST A GRAPH NODE-> IT WILL NOT EXECUTE TILL YOU ACTUALLY RUN A SESSION! "
      ],
      "execution_count": 5,
      "outputs": [
        {
          "output_type": "execute_result",
          "data": {
            "text/plain": [
              "<tf.Tensor 'Sum:0' shape=() dtype=float32>"
            ]
          },
          "metadata": {
            "tags": []
          },
          "execution_count": 5
        }
      ]
    },
    {
      "cell_type": "code",
      "metadata": {
        "id": "SfNO_4OEfPjA",
        "colab_type": "code",
        "colab": {
          "base_uri": "https://localhost:8080/",
          "height": 139
        },
        "outputId": "7a67028c-54db-47d7-dc1d-3f64dbf8fd5e"
      },
      "source": [
        "session = tf.Session()\n",
        "session.run(tf.global_variables_initializer()) # THIS IS THE FIRST INITIALIZATION\n",
        "# MUST, shouldn't/cannot/mustn't be skipped\n",
        "inputs = [[200,0,1],[215,70,4],[0,0,200],[5,40,230]] \n",
        "# this was a problem statement to detect if a PIXEL is RED \n",
        "outputs = [ [1], [1], [0], [0] ]\n",
        "for step in range(1000): # 1000 times -> LOSS will calc, opt will reduce it, and y calc again!\n",
        "  session.run(fetches=[optimizer], feed_dict={trainingInputs:inputs, trainingOutputs:outputs})\n",
        "\n",
        "print(session.run(weights))\n",
        "print(session.run(bias))\n",
        "# SCORING the model\n",
        "print(session.run(fetches=predictions, feed_dict={trainingInputs:[[0,0,200],[1,200,200],[1,50,200]]}))\n",
        "\n",
        "session.close()"
      ],
      "execution_count": 8,
      "outputs": [
        {
          "output_type": "stream",
          "text": [
            "[[0.3]\n",
            " [0.1]\n",
            " [0.7]]\n",
            "[[0.05]]\n",
            "[[1.]\n",
            " [1.]\n",
            " [1.]]\n"
          ],
          "name": "stdout"
        }
      ]
    },
    {
      "cell_type": "markdown",
      "metadata": {
        "id": "Mc20okTRhF2G",
        "colab_type": "text"
      },
      "source": [
        "AFTER PRINTING weights and biases, we just realized that they are STILL the same values that we provided!!! THAT MEANS NO LEARNING HAPPENED!!\n",
        "\n"
      ]
    },
    {
      "cell_type": "code",
      "metadata": {
        "id": "Gs-OvHEFLSYN",
        "colab_type": "code",
        "colab": {}
      },
      "source": [
        "# ALL tf code only RUNS inside TENSORFLOW SESSION \n",
        "\n",
        "# LAZY EVALUATION\n",
        "# BIG Data (Apache Spark, Data Bricks) and GRAPH libraries (TENSORFLOW) building ACYCLIC GRAPHS\n",
        "# WHICH SHOULD ONLY be executed only all the info is known\n",
        "\n",
        "# a = 1, b=2, c=a+b, print(c)\n",
        "# normal programming language                           Tensorflow/ApacheSpark/DAG\n",
        "\n",
        "# a=1, what is value of a? Lang = 1!                 a=1, what is value of a? TF = ok!\n",
        "# b=2, what is value of b? Lang = 2!                 b=2, what is value of b? TF = ok!\n",
        "# c = a+b, what is value of C? Lang = 3!             c = a+b, what is value of C? TF =ok! \n",
        "# print(c), printed, Language-> 3                     print(c) -> Now TF needs to know the value\n",
        "#                                                     DAG will be built and executed \n",
        "\n"
      ],
      "execution_count": 0,
      "outputs": []
    }
  ]
}