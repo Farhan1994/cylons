{
  "nbformat": 4,
  "nbformat_minor": 0,
  "metadata": {
    "colab": {
      "name": "02 K-Means.ipynb",
      "provenance": [],
      "collapsed_sections": [],
      "authorship_tag": "ABX9TyPKrBXICYTvb6tCLnkN5Kkg",
      "include_colab_link": true
    },
    "kernelspec": {
      "name": "python3",
      "display_name": "Python 3"
    }
  },
  "cells": [
    {
      "cell_type": "markdown",
      "metadata": {
        "id": "view-in-github",
        "colab_type": "text"
      },
      "source": [
        "<a href=\"https://colab.research.google.com/github/a-forty-two/cylons/blob/master/02_K_Means.ipynb\" target=\"_parent\"><img src=\"https://colab.research.google.com/assets/colab-badge.svg\" alt=\"Open In Colab\"/></a>"
      ]
    },
    {
      "cell_type": "code",
      "metadata": {
        "id": "gVqWwcLQ95_U",
        "colab_type": "code",
        "colab": {}
      },
      "source": [
        "# Previous-> SUPERVISED algos. Supervised algo means that you know what the label is\n",
        "# LABEL was Diagnosis! \n",
        "# when we don't know the label, then we can only CLASSIFY the points based on various factors,\n",
        "# such as - are they kept next to each other? \n",
        "# UNSUPERVISED ALGOS-> no idea what the label is, just figure out if things could be kept\n",
        "# together \n",
        "\n",
        "\n",
        "\n",
        "import pandas as pd\n",
        "df = pd.DataFrame({\n",
        "    'x':[12,20,28,18,29,33,24,45,52,45,51,52,55,53,55,61,65,66,72,22],\n",
        "    'y':[39, 35, 30, 52, 55, 53, 46, 55, 59, 63,70, 66,63,58,23,14,8,19,7,24]\n",
        "})\n",
        "# THIS IS THE ONLY DATA THAT WE HAVE-> there is no output or label to guide us \n",
        "# Hence, no xtrain,ytrain,xtest, ytest either!!! \n"
      ],
      "execution_count": 0,
      "outputs": []
    },
    {
      "cell_type": "markdown",
      "metadata": {
        "id": "RtvTZZ3XLaem",
        "colab_type": "text"
      },
      "source": [
        "1) ASSUME k number of CENTROIDS. These centroids are the no. of clusters you want to divide your data into\n",
        "\n",
        "2) RANDOMLY select k points from given dataset or you can even select your OWN random points \n",
        "\n",
        "3) CALCULATE DISTANCE of EVERY point from these centroids \n",
        "\n",
        "4) EACH point will be classified to the closest (NEAREST) CENTROID \n",
        "\n",
        "5) Is this the best answer? NO? [DISTANCE algorithms-> STD -> MIN STD for best algo]\n",
        "\n",
        "6) MOVE THE CENTROIDS to their NEAREST NEIGHBOR\n",
        "\n",
        "7) GO TO STEP 3 again. Keep repeating till all the points are visited or min STD achieved. "
      ]
    },
    {
      "cell_type": "code",
      "metadata": {
        "id": "iSWrNkY9KgmK",
        "colab_type": "code",
        "colab": {}
      },
      "source": [
        "import numpy as np\n",
        "import matplotlib.pyplot as plt \n",
        "%matplotlib inline \n",
        "# if you want to use iPython's matplotlib \n",
        "# inline -> use local definition not official python definition\n",
        "# local definition-> Whatever Colab's iPython has decided\n",
        "# here matplotlib is a HTML/CSS/JS library\n",
        "# on local machine matplotlib is a C++ library \n",
        "\n"
      ],
      "execution_count": 0,
      "outputs": []
    },
    {
      "cell_type": "code",
      "metadata": {
        "id": "fAHR9nnDPZRe",
        "colab_type": "code",
        "colab": {
          "base_uri": "https://localhost:8080/",
          "height": 35
        },
        "outputId": "4cf9f08d-4756-4f62-f555-fc5b43b7a51b"
      },
      "source": [
        "# to ensure we get the same randomness everytime we run random functions, we will fix the seed\n",
        "# for randomness -> random_state \n",
        "np.random.seed(42) # EVEN THO THERE IS RANDOMNESS -> SAME randomness is applied for all of us\n",
        "k = 3 # ASSUMPTION \n",
        "centroids = {i+1:[np.random.randint(0,80),np.random.randint(0,80) ]  for i in range(k)} # (x,y)\n",
        "centroids\n"
      ],
      "execution_count": 6,
      "outputs": [
        {
          "output_type": "execute_result",
          "data": {
            "text/plain": [
              "{1: [51, 14], 2: [71, 60], 3: [20, 74]}"
            ]
          },
          "metadata": {
            "tags": []
          },
          "execution_count": 6
        }
      ]
    },
    {
      "cell_type": "code",
      "metadata": {
        "id": "sCbBjHX8Rj87",
        "colab_type": "code",
        "colab": {
          "base_uri": "https://localhost:8080/",
          "height": 324
        },
        "outputId": "2bfb5497-91a9-4c8b-afaf-aa299ad1ed21"
      },
      "source": [
        "fig = plt.figure(figsize=(5,5))\n",
        "plt.scatter(df['x'], df['y'], color='k') # k means black \n",
        "# let's plot our centroids overlay on this scatter plot\n",
        "color_dic = {1:'r', 2:'b', 3:'g'}\n",
        "for i in centroids.keys():\n",
        "  plt.scatter(*centroids[i], color=color_dic[i])\n",
        "plt.xlim(0,80) # min and max of scale on x -axis\n",
        "plt.ylim(0,80) # same as above on y axis\n",
        "plt.show()"
      ],
      "execution_count": 8,
      "outputs": [
        {
          "output_type": "display_data",
          "data": {
            "image/png": "[encoded data removed]",
            "text/plain": [
              "<Figure size 360x360 with 1 Axes>"
            ]
          },
          "metadata": {
            "tags": [],
            "needs_background": "light"
          }
        }
      ]
    },
    {
      "cell_type": "code",
      "metadata": {
        "id": "m5kwoePSSsFQ",
        "colab_type": "code",
        "colab": {}
      },
      "source": [
        "def Fit(df, centroids):\n",
        "  for i in centroids.keys():\n",
        "    # squared root distance formulae\n",
        "    df['distance_from_{}'.format(i)] = (np.sqrt((df['x']-centroids[i][0])**2 + (df['y']-centroids[i][1])**2))\n",
        "  # create new cols for comparison of which distance is least\n",
        "  # CALCULATE DISTANCE from each centroid, and CREATE a COLUMN out of it in DF\n",
        "  centroid_new_cols = ['distance_from_{}'.format(i) for i in centroids.keys()]\n",
        "  # SELECT the column with SMALLEST DISTANCE -> IDXMIN --> Index of MINIMUM VALUE [ distance_from_1:10, distance_from_2:20, distance_from_3:15] -> distance_from_1\n",
        "  df['closest'] = df.loc[:,centroid_new_cols].idxmin(axis=1) # axis=1, creating a new dimension in existing datafram\n",
        "  # distance_from_3 was smalled value, and that has been entered as CLOSEST value\n",
        "  # df['closest'] -> distance_from_3, distance_from_1 and so on\n",
        "  df['closest'] = df['closest'].map(lambda x: int(x.lstrip('distance_from_'))) # remove extra words and leave on centroid number\n",
        "  # converting distance_from_3 to 3\n",
        "  df['color'] = df['closest'].map(lambda x: color_dic[x])\n",
        "  return df\n"
      ],
      "execution_count": 0,
      "outputs": []
    },
    {
      "cell_type": "code",
      "metadata": {
        "id": "a7H1ZfYcWItT",
        "colab_type": "code",
        "colab": {
          "base_uri": "https://localhost:8080/",
          "height": 355
        },
        "outputId": "582dd081-bfaf-4ee9-d5ae-9724f9f459ae"
      },
      "source": [
        "df_modified = Fit(df, centroids)\n",
        "df_modified.head(10)"
      ],
      "execution_count": 12,
      "outputs": [
        {
          "output_type": "execute_result",
          "data": {
            "text/html": [
              "<div>\n",
              "<style scoped>\n",
              "    .dataframe tbody tr th:only-of-type {\n",
              "        vertical-align: middle;\n",
              "    }\n",
              "\n",
              "    .dataframe tbody tr th {\n",
              "        vertical-align: top;\n",
              "    }\n",
              "\n",
              "    .dataframe thead th {\n",
              "        text-align: right;\n",
              "    }\n",
              "</style>\n",
              "<table border=\"1\" class=\"dataframe\">\n",
              "  <thead>\n",
              "    <tr style=\"text-align: right;\">\n",
              "      <th></th>\n",
              "      <th>x</th>\n",
              "      <th>y</th>\n",
              "      <th>distance_from_1</th>\n",
              "      <th>distance_from_2</th>\n",
              "      <th>distance_from_3</th>\n",
              "      <th>closest</th>\n",
              "      <th>color</th>\n",
              "    </tr>\n",
              "  </thead>\n",
              "  <tbody>\n",
              "    <tr>\n",
              "      <th>0</th>\n",
              "      <td>12</td>\n",
              "      <td>39</td>\n",
              "      <td>46.324939</td>\n",
              "      <td>62.625873</td>\n",
              "      <td>35.902646</td>\n",
              "      <td>3</td>\n",
              "      <td>g</td>\n",
              "    </tr>\n",
              "    <tr>\n",
              "      <th>1</th>\n",
              "      <td>20</td>\n",
              "      <td>35</td>\n",
              "      <td>37.443290</td>\n",
              "      <td>56.797887</td>\n",
              "      <td>39.000000</td>\n",
              "      <td>1</td>\n",
              "      <td>r</td>\n",
              "    </tr>\n",
              "    <tr>\n",
              "      <th>2</th>\n",
              "      <td>28</td>\n",
              "      <td>30</td>\n",
              "      <td>28.017851</td>\n",
              "      <td>52.430907</td>\n",
              "      <td>44.721360</td>\n",
              "      <td>1</td>\n",
              "      <td>r</td>\n",
              "    </tr>\n",
              "    <tr>\n",
              "      <th>3</th>\n",
              "      <td>18</td>\n",
              "      <td>52</td>\n",
              "      <td>50.328918</td>\n",
              "      <td>53.600373</td>\n",
              "      <td>22.090722</td>\n",
              "      <td>3</td>\n",
              "      <td>g</td>\n",
              "    </tr>\n",
              "    <tr>\n",
              "      <th>4</th>\n",
              "      <td>29</td>\n",
              "      <td>55</td>\n",
              "      <td>46.529560</td>\n",
              "      <td>42.296572</td>\n",
              "      <td>21.023796</td>\n",
              "      <td>3</td>\n",
              "      <td>g</td>\n",
              "    </tr>\n",
              "    <tr>\n",
              "      <th>5</th>\n",
              "      <td>33</td>\n",
              "      <td>53</td>\n",
              "      <td>42.953463</td>\n",
              "      <td>38.639358</td>\n",
              "      <td>24.698178</td>\n",
              "      <td>3</td>\n",
              "      <td>g</td>\n",
              "    </tr>\n",
              "    <tr>\n",
              "      <th>6</th>\n",
              "      <td>24</td>\n",
              "      <td>46</td>\n",
              "      <td>41.868843</td>\n",
              "      <td>49.040799</td>\n",
              "      <td>28.284271</td>\n",
              "      <td>3</td>\n",
              "      <td>g</td>\n",
              "    </tr>\n",
              "    <tr>\n",
              "      <th>7</th>\n",
              "      <td>45</td>\n",
              "      <td>55</td>\n",
              "      <td>41.436699</td>\n",
              "      <td>26.476405</td>\n",
              "      <td>31.400637</td>\n",
              "      <td>2</td>\n",
              "      <td>b</td>\n",
              "    </tr>\n",
              "    <tr>\n",
              "      <th>8</th>\n",
              "      <td>52</td>\n",
              "      <td>59</td>\n",
              "      <td>45.011110</td>\n",
              "      <td>19.026298</td>\n",
              "      <td>35.341194</td>\n",
              "      <td>2</td>\n",
              "      <td>b</td>\n",
              "    </tr>\n",
              "    <tr>\n",
              "      <th>9</th>\n",
              "      <td>45</td>\n",
              "      <td>63</td>\n",
              "      <td>49.365980</td>\n",
              "      <td>26.172505</td>\n",
              "      <td>27.313001</td>\n",
              "      <td>2</td>\n",
              "      <td>b</td>\n",
              "    </tr>\n",
              "  </tbody>\n",
              "</table>\n",
              "</div>"
            ],
            "text/plain": [
              "    x   y  distance_from_1  distance_from_2  distance_from_3  closest color\n",
              "0  12  39        46.324939        62.625873        35.902646        3     g\n",
              "1  20  35        37.443290        56.797887        39.000000        1     r\n",
              "2  28  30        28.017851        52.430907        44.721360        1     r\n",
              "3  18  52        50.328918        53.600373        22.090722        3     g\n",
              "4  29  55        46.529560        42.296572        21.023796        3     g\n",
              "5  33  53        42.953463        38.639358        24.698178        3     g\n",
              "6  24  46        41.868843        49.040799        28.284271        3     g\n",
              "7  45  55        41.436699        26.476405        31.400637        2     b\n",
              "8  52  59        45.011110        19.026298        35.341194        2     b\n",
              "9  45  63        49.365980        26.172505        27.313001        2     b"
            ]
          },
          "metadata": {
            "tags": []
          },
          "execution_count": 12
        }
      ]
    },
    {
      "cell_type": "code",
      "metadata": {
        "id": "PsiKJmAOW--S",
        "colab_type": "code",
        "colab": {}
      },
      "source": [
        ""
      ],
      "execution_count": 0,
      "outputs": []
    }
  ]
}