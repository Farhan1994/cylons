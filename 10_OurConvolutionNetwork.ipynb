{
  "nbformat": 4,
  "nbformat_minor": 0,
  "metadata": {
    "colab": {
      "name": "10 OurConvolutionNetwork.ipynb",
      "provenance": [],
      "collapsed_sections": [],
      "authorship_tag": "ABX9TyNd8TL/14iVdCeT0fIkE3t6",
      "include_colab_link": true
    },
    "kernelspec": {
      "name": "python3",
      "display_name": "Python 3"
    }
  },
  "cells": [
    {
      "cell_type": "markdown",
      "metadata": {
        "id": "view-in-github",
        "colab_type": "text"
      },
      "source": [
        "<a href=\"https://colab.research.google.com/github/a-forty-two/cylons/blob/master/10_OurConvolutionNetwork.ipynb\" target=\"_parent\"><img src=\"https://colab.research.google.com/assets/colab-badge.svg\" alt=\"Open In Colab\"/></a>"
      ]
    },
    {
      "cell_type": "code",
      "metadata": {
        "id": "26PFtAS1qvMd",
        "colab_type": "code",
        "colab": {}
      },
      "source": [
        "# https://1drv.ms/u/s!AhM-uOEWdqAeqG9rJT9XKZp62sCj?e=hl5sKg\n",
        "# https://1drv.ms/u/s!AhM-uOEWdqAexWFgIl-sNiHnq0JM?e=V3cG4m\n",
        "\n",
        "# LUNCH Break -> 2:45 pm resume! "
      ],
      "execution_count": 0,
      "outputs": []
    },
    {
      "cell_type": "code",
      "metadata": {
        "id": "YU4d4M3LqiqM",
        "colab_type": "code",
        "colab": {}
      },
      "source": [
        "# CONVOLUTIONAL neural networks + Recurring Networks + Lot of unknown stuff = Brain"
      ],
      "execution_count": 0,
      "outputs": []
    },
    {
      "cell_type": "code",
      "metadata": {
        "id": "ZvpPcQJpjFTl",
        "colab_type": "code",
        "colab": {}
      },
      "source": [
        "# Color theory: https://www.springer.com/gp/book/9780792399285\n",
        "\n",
        "# Concious / Unconcious -> myth \n",
        "# Cerebrum, Cerebellum, Corpus callosum, medulla -> Biologist \n",
        "# biologist and neurologist -> CLASSFIED brains into activities\n",
        "# \n",
        "# They are now proven to be partial knowledges!\n",
        "\n",
        "# Optical nerve was working fine but postoral lobe responsible for\n",
        "# vision was damaged \n",
        "\n",
        "# Neurosurgeons -> clipped optical nerve and connected to a different segment of brain\n",
        "# within matter of months, BRAIN taught itself to SEE from the area where it was not supposed\n",
        "# to! \n",
        "\n",
        "# BRAIN -> Weights and BIASES and unknown parameters! "
      ],
      "execution_count": 0,
      "outputs": []
    },
    {
      "cell_type": "code",
      "metadata": {
        "id": "Uwp0Bu5Iqfmg",
        "colab_type": "code",
        "colab": {}
      },
      "source": [
        ""
      ],
      "execution_count": 0,
      "outputs": []
    }
  ]
}